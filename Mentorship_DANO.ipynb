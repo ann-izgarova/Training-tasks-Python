{
 "cells": [
  {
   "cell_type": "markdown",
   "metadata": {
    "cell_id": "1c4db8bd916841628beae23ad1121fae",
    "deepnote_cell_type": "text-cell-h1",
    "formattedRanges": [],
    "is_collapsed": false
   },
   "source": [
    "# Предобработка данных"
   ]
  },
  {
   "cell_type": "markdown",
   "metadata": {
    "cell_id": "9befd3371491468f94000958b7442f83",
    "deepnote_cell_type": "markdown"
   },
   "source": [
    "#### Загрузка данных"
   ]
  },
  {
   "cell_type": "code",
   "execution_count": null,
   "metadata": {
    "cell_id": "b5ae9b11d24a423fb982f81798725be0",
    "deepnote_cell_type": "code",
    "deepnote_to_be_reexecuted": false,
    "execution_millis": 4116,
    "execution_start": 1684350008558,
    "source_hash": "d9543457"
   },
   "outputs": [
    {
     "data": {
      "application/vnd.deepnote.dataframe.v3+json": {
       "column_count": 72,
       "columns": [
        {
         "dtype": "uint64",
         "name": "user_id",
         "stats": {
          "histogram": [
           {
            "bin_end": 4699813228180633000,
            "bin_start": 3333318221433111600,
            "count": 1
           },
           {
            "bin_end": 6066308234928154000,
            "bin_start": 4699813228180633000,
            "count": 0
           },
           {
            "bin_end": 7432803241675675000,
            "bin_start": 6066308234928154000,
            "count": 1
           },
           {
            "bin_end": 8799298248423196000,
            "bin_start": 7432803241675675000,
            "count": 0
           },
           {
            "bin_end": 10165793255170716000,
            "bin_start": 8799298248423196000,
            "count": 0
           },
           {
            "bin_end": 11532288261918237000,
            "bin_start": 10165793255170716000,
            "count": 1
           },
           {
            "bin_end": 12898783268665758000,
            "bin_start": 11532288261918237000,
            "count": 1
           },
           {
            "bin_end": 14265278275413279000,
            "bin_start": 12898783268665758000,
            "count": 0
           },
           {
            "bin_end": 15631773282160800000,
            "bin_start": 14265278275413279000,
            "count": 0
           },
           {
            "bin_end": 16998268288908323000,
            "bin_start": 15631773282160800000,
            "count": 1
           }
          ],
          "max": "16998268288908323644",
          "min": "3333318221433111575",
          "nan_count": 0,
          "unique_count": 5
         }
        },
        {
         "dtype": "uint64",
         "name": "org_id",
         "stats": {
          "histogram": null,
          "max": "7184895086928047809",
          "min": "7184895086928047809",
          "nan_count": 0,
          "unique_count": 1
         }
        },
        {
         "dtype": "float64",
         "name": "rating",
         "stats": {
          "histogram": [
           {
            "bin_end": 1.4,
            "bin_start": 1,
            "count": 1
           },
           {
            "bin_end": 1.8,
            "bin_start": 1.4,
            "count": 0
           },
           {
            "bin_end": 2.2,
            "bin_start": 1.8,
            "count": 2
           },
           {
            "bin_end": 2.6,
            "bin_start": 2.2,
            "count": 0
           },
           {
            "bin_end": 3,
            "bin_start": 2.6,
            "count": 0
           },
           {
            "bin_end": 3.4000000000000004,
            "bin_start": 3,
            "count": 1
           },
           {
            "bin_end": 3.8000000000000003,
            "bin_start": 3.4000000000000004,
            "count": 0
           },
           {
            "bin_end": 4.2,
            "bin_start": 3.8000000000000003,
            "count": 0
           },
           {
            "bin_end": 4.6,
            "bin_start": 4.2,
            "count": 0
           },
           {
            "bin_end": 5,
            "bin_start": 4.6,
            "count": 1
           }
          ],
          "max": "5.0",
          "min": "1.0",
          "nan_count": 0,
          "unique_count": 4
         }
        },
        {
         "dtype": "int64",
         "name": "ts",
         "stats": {
          "histogram": [
           {
            "bin_end": 201.7,
            "bin_start": 105,
            "count": 1
           },
           {
            "bin_end": 298.4,
            "bin_start": 201.7,
            "count": 0
           },
           {
            "bin_end": 395.1,
            "bin_start": 298.4,
            "count": 0
           },
           {
            "bin_end": 491.8,
            "bin_start": 395.1,
            "count": 1
           },
           {
            "bin_end": 588.5,
            "bin_start": 491.8,
            "count": 0
           },
           {
            "bin_end": 685.2,
            "bin_start": 588.5,
            "count": 1
           },
           {
            "bin_end": 781.9,
            "bin_start": 685.2,
            "count": 1
           },
           {
            "bin_end": 878.6,
            "bin_start": 781.9,
            "count": 0
           },
           {
            "bin_end": 975.3000000000001,
            "bin_start": 878.6,
            "count": 0
           },
           {
            "bin_end": 1072,
            "bin_start": 975.3000000000001,
            "count": 1
           }
          ],
          "max": "1072",
          "min": "105",
          "nan_count": 0,
          "unique_count": 5
         }
        },
        {
         "dtype": "object",
         "name": "user_city",
         "stats": {
          "categories": [
           {
            "count": 5,
            "name": "msk"
           }
          ],
          "nan_count": 0,
          "unique_count": 1
         }
        },
        {
         "dtype": "object",
         "name": "org_city",
         "stats": {
          "categories": [
           {
            "count": 5,
            "name": "msk"
           }
          ],
          "nan_count": 0,
          "unique_count": 1
         }
        },
        {
         "dtype": "float64",
         "name": "average_bill",
         "stats": {
          "histogram": [
           {
            "bin_end": 499.6,
            "bin_start": 499.5,
            "count": 0
           },
           {
            "bin_end": 499.7,
            "bin_start": 499.6,
            "count": 0
           },
           {
            "bin_end": 499.8,
            "bin_start": 499.7,
            "count": 0
           },
           {
            "bin_end": 499.9,
            "bin_start": 499.8,
            "count": 0
           },
           {
            "bin_end": 500,
            "bin_start": 499.9,
            "count": 0
           },
           {
            "bin_end": 500.1,
            "bin_start": 500,
            "count": 5
           },
           {
            "bin_end": 500.2,
            "bin_start": 500.1,
            "count": 0
           },
           {
            "bin_end": 500.3,
            "bin_start": 500.2,
            "count": 0
           },
           {
            "bin_end": 500.4,
            "bin_start": 500.3,
            "count": 0
           },
           {
            "bin_end": 500.5,
            "bin_start": 500.4,
            "count": 0
           }
          ],
          "max": "500.0",
          "min": "500.0",
          "nan_count": 0,
          "unique_count": 1
         }
        },
        {
         "dtype": "float64",
         "name": "rating_org",
         "stats": {
          "histogram": [
           {
            "bin_end": 3.6386879730866277,
            "bin_start": 3.5386879730866276,
            "count": 0
           },
           {
            "bin_end": 3.738687973086628,
            "bin_start": 3.6386879730866277,
            "count": 0
           },
           {
            "bin_end": 3.8386879730866275,
            "bin_start": 3.738687973086628,
            "count": 0
           },
           {
            "bin_end": 3.9386879730866275,
            "bin_start": 3.8386879730866275,
            "count": 0
           },
           {
            "bin_end": 4.038687973086628,
            "bin_start": 3.9386879730866275,
            "count": 0
           },
           {
            "bin_end": 4.138687973086627,
            "bin_start": 4.038687973086628,
            "count": 5
           },
           {
            "bin_end": 4.238687973086628,
            "bin_start": 4.138687973086627,
            "count": 0
           },
           {
            "bin_end": 4.3386879730866275,
            "bin_start": 4.238687973086628,
            "count": 0
           },
           {
            "bin_end": 4.438687973086628,
            "bin_start": 4.3386879730866275,
            "count": 0
           },
           {
            "bin_end": 4.538687973086628,
            "bin_start": 4.438687973086628,
            "count": 0
           }
          ],
          "max": "4.038687973086628",
          "min": "4.038687973086628",
          "nan_count": 0,
          "unique_count": 1
         }
        },
        {
         "dtype": "object",
         "name": "rubrics",
         "stats": {
          "categories": [
           {
            "count": 5,
            "name": "Быстрое питание"
           }
          ],
          "nan_count": 0,
          "unique_count": 1
         }
        },
        {
         "dtype": "int64",
         "name": "food_delivery",
         "stats": {
          "histogram": [
           {
            "bin_end": 0.6,
            "bin_start": 0.5,
            "count": 0
           },
           {
            "bin_end": 0.7,
            "bin_start": 0.6,
            "count": 0
           },
           {
            "bin_end": 0.8,
            "bin_start": 0.7,
            "count": 0
           },
           {
            "bin_end": 0.9,
            "bin_start": 0.8,
            "count": 0
           },
           {
            "bin_end": 1,
            "bin_start": 0.9,
            "count": 0
           },
           {
            "bin_end": 1.1,
            "bin_start": 1,
            "count": 5
           },
           {
            "bin_end": 1.2000000000000002,
            "bin_start": 1.1,
            "count": 0
           },
           {
            "bin_end": 1.3,
            "bin_start": 1.2000000000000002,
            "count": 0
           },
           {
            "bin_end": 1.4,
            "bin_start": 1.3,
            "count": 0
           },
           {
            "bin_end": 1.5,
            "bin_start": 1.4,
            "count": 0
           }
          ],
          "max": "1",
          "min": "1",
          "nan_count": 0,
          "unique_count": 1
         }
        },
        {
         "dtype": "int64",
         "name": "breakfast",
         "stats": {
          "histogram": [
           {
            "bin_end": 0.6,
            "bin_start": 0.5,
            "count": 0
           },
           {
            "bin_end": 0.7,
            "bin_start": 0.6,
            "count": 0
           },
           {
            "bin_end": 0.8,
            "bin_start": 0.7,
            "count": 0
           },
           {
            "bin_end": 0.9,
            "bin_start": 0.8,
            "count": 0
           },
           {
            "bin_end": 1,
            "bin_start": 0.9,
            "count": 0
           },
           {
            "bin_end": 1.1,
            "bin_start": 1,
            "count": 5
           },
           {
            "bin_end": 1.2000000000000002,
            "bin_start": 1.1,
            "count": 0
           },
           {
            "bin_end": 1.3,
            "bin_start": 1.2000000000000002,
            "count": 0
           },
           {
            "bin_end": 1.4,
            "bin_start": 1.3,
            "count": 0
           },
           {
            "bin_end": 1.5,
            "bin_start": 1.4,
            "count": 0
           }
          ],
          "max": "1",
          "min": "1",
          "nan_count": 0,
          "unique_count": 1
         }
        },
        {
         "dtype": "int64",
         "name": "takeaway",
         "stats": {
          "histogram": [
           {
            "bin_end": 0.6,
            "bin_start": 0.5,
            "count": 0
           },
           {
            "bin_end": 0.7,
            "bin_start": 0.6,
            "count": 0
           },
           {
            "bin_end": 0.8,
            "bin_start": 0.7,
            "count": 0
           },
           {
            "bin_end": 0.9,
            "bin_start": 0.8,
            "count": 0
           },
           {
            "bin_end": 1,
            "bin_start": 0.9,
            "count": 0
           },
           {
            "bin_end": 1.1,
            "bin_start": 1,
            "count": 5
           },
           {
            "bin_end": 1.2000000000000002,
            "bin_start": 1.1,
            "count": 0
           },
           {
            "bin_end": 1.3,
            "bin_start": 1.2000000000000002,
            "count": 0
           },
           {
            "bin_end": 1.4,
            "bin_start": 1.3,
            "count": 0
           },
           {
            "bin_end": 1.5,
            "bin_start": 1.4,
            "count": 0
           }
          ],
          "max": "1",
          "min": "1",
          "nan_count": 0,
          "unique_count": 1
         }
        },
        {
         "dtype": "int64",
         "name": "summer_terrace",
         "stats": {
          "histogram": [
           {
            "bin_end": 0.6,
            "bin_start": 0.5,
            "count": 0
           },
           {
            "bin_end": 0.7,
            "bin_start": 0.6,
            "count": 0
           },
           {
            "bin_end": 0.8,
            "bin_start": 0.7,
            "count": 0
           },
           {
            "bin_end": 0.9,
            "bin_start": 0.8,
            "count": 0
           },
           {
            "bin_end": 1,
            "bin_start": 0.9,
            "count": 0
           },
           {
            "bin_end": 1.1,
            "bin_start": 1,
            "count": 5
           },
           {
            "bin_end": 1.2000000000000002,
            "bin_start": 1.1,
            "count": 0
           },
           {
            "bin_end": 1.3,
            "bin_start": 1.2000000000000002,
            "count": 0
           },
           {
            "bin_end": 1.4,
            "bin_start": 1.3,
            "count": 0
           },
           {
            "bin_end": 1.5,
            "bin_start": 1.4,
            "count": 0
           }
          ],
          "max": "1",
          "min": "1",
          "nan_count": 0,
          "unique_count": 1
         }
        },
        {
         "dtype": "int64",
         "name": "wi_fi",
         "stats": {
          "histogram": [
           {
            "bin_end": 0.6,
            "bin_start": 0.5,
            "count": 0
           },
           {
            "bin_end": 0.7,
            "bin_start": 0.6,
            "count": 0
           },
           {
            "bin_end": 0.8,
            "bin_start": 0.7,
            "count": 0
           },
           {
            "bin_end": 0.9,
            "bin_start": 0.8,
            "count": 0
           },
           {
            "bin_end": 1,
            "bin_start": 0.9,
            "count": 0
           },
           {
            "bin_end": 1.1,
            "bin_start": 1,
            "count": 5
           },
           {
            "bin_end": 1.2000000000000002,
            "bin_start": 1.1,
            "count": 0
           },
           {
            "bin_end": 1.3,
            "bin_start": 1.2000000000000002,
            "count": 0
           },
           {
            "bin_end": 1.4,
            "bin_start": 1.3,
            "count": 0
           },
           {
            "bin_end": 1.5,
            "bin_start": 1.4,
            "count": 0
           }
          ],
          "max": "1",
          "min": "1",
          "nan_count": 0,
          "unique_count": 1
         }
        },
        {
         "dtype": "int64",
         "name": "business_lunch",
         "stats": {
          "histogram": [
           {
            "bin_end": 0.6,
            "bin_start": 0.5,
            "count": 0
           },
           {
            "bin_end": 0.7,
            "bin_start": 0.6,
            "count": 0
           },
           {
            "bin_end": 0.8,
            "bin_start": 0.7,
            "count": 0
           },
           {
            "bin_end": 0.9,
            "bin_start": 0.8,
            "count": 0
           },
           {
            "bin_end": 1,
            "bin_start": 0.9,
            "count": 0
           },
           {
            "bin_end": 1.1,
            "bin_start": 1,
            "count": 5
           },
           {
            "bin_end": 1.2000000000000002,
            "bin_start": 1.1,
            "count": 0
           },
           {
            "bin_end": 1.3,
            "bin_start": 1.2000000000000002,
            "count": 0
           },
           {
            "bin_end": 1.4,
            "bin_start": 1.3,
            "count": 0
           },
           {
            "bin_end": 1.5,
            "bin_start": 1.4,
            "count": 0
           }
          ],
          "max": "1",
          "min": "1",
          "nan_count": 0,
          "unique_count": 1
         }
        },
        {
         "dtype": "int64",
         "name": "payment_by_credit_card",
         "stats": {
          "histogram": [
           {
            "bin_end": 0.6,
            "bin_start": 0.5,
            "count": 0
           },
           {
            "bin_end": 0.7,
            "bin_start": 0.6,
            "count": 0
           },
           {
            "bin_end": 0.8,
            "bin_start": 0.7,
            "count": 0
           },
           {
            "bin_end": 0.9,
            "bin_start": 0.8,
            "count": 0
           },
           {
            "bin_end": 1,
            "bin_start": 0.9,
            "count": 0
           },
           {
            "bin_end": 1.1,
            "bin_start": 1,
            "count": 5
           },
           {
            "bin_end": 1.2000000000000002,
            "bin_start": 1.1,
            "count": 0
           },
           {
            "bin_end": 1.3,
            "bin_start": 1.2000000000000002,
            "count": 0
           },
           {
            "bin_end": 1.4,
            "bin_start": 1.3,
            "count": 0
           },
           {
            "bin_end": 1.5,
            "bin_start": 1.4,
            "count": 0
           }
          ],
          "max": "1",
          "min": "1",
          "nan_count": 0,
          "unique_count": 1
         }
        },
        {
         "dtype": "int64",
         "name": "coffee_to_go",
         "stats": {
          "histogram": [
           {
            "bin_end": 0.6,
            "bin_start": 0.5,
            "count": 0
           },
           {
            "bin_end": 0.7,
            "bin_start": 0.6,
            "count": 0
           },
           {
            "bin_end": 0.8,
            "bin_start": 0.7,
            "count": 0
           },
           {
            "bin_end": 0.9,
            "bin_start": 0.8,
            "count": 0
           },
           {
            "bin_end": 1,
            "bin_start": 0.9,
            "count": 0
           },
           {
            "bin_end": 1.1,
            "bin_start": 1,
            "count": 5
           },
           {
            "bin_end": 1.2000000000000002,
            "bin_start": 1.1,
            "count": 0
           },
           {
            "bin_end": 1.3,
            "bin_start": 1.2000000000000002,
            "count": 0
           },
           {
            "bin_end": 1.4,
            "bin_start": 1.3,
            "count": 0
           },
           {
            "bin_end": 1.5,
            "bin_start": 1.4,
            "count": 0
           }
          ],
          "max": "1",
          "min": "1",
          "nan_count": 0,
          "unique_count": 1
         }
        },
        {
         "dtype": "int64",
         "name": "closed_for_quarantine",
         "stats": {
          "histogram": [
           {
            "bin_end": 0.6,
            "bin_start": 0.5,
            "count": 0
           },
           {
            "bin_end": 0.7,
            "bin_start": 0.6,
            "count": 0
           },
           {
            "bin_end": 0.8,
            "bin_start": 0.7,
            "count": 0
           },
           {
            "bin_end": 0.9,
            "bin_start": 0.8,
            "count": 0
           },
           {
            "bin_end": 1,
            "bin_start": 0.9,
            "count": 0
           },
           {
            "bin_end": 1.1,
            "bin_start": 1,
            "count": 5
           },
           {
            "bin_end": 1.2000000000000002,
            "bin_start": 1.1,
            "count": 0
           },
           {
            "bin_end": 1.3,
            "bin_start": 1.2000000000000002,
            "count": 0
           },
           {
            "bin_end": 1.4,
            "bin_start": 1.3,
            "count": 0
           },
           {
            "bin_end": 1.5,
            "bin_start": 1.4,
            "count": 0
           }
          ],
          "max": "1",
          "min": "1",
          "nan_count": 0,
          "unique_count": 1
         }
        },
        {
         "dtype": "int64",
         "name": "online_takeaway",
         "stats": {
          "histogram": [
           {
            "bin_end": -0.4,
            "bin_start": -0.5,
            "count": 0
           },
           {
            "bin_end": -0.3,
            "bin_start": -0.4,
            "count": 0
           },
           {
            "bin_end": -0.19999999999999996,
            "bin_start": -0.3,
            "count": 0
           },
           {
            "bin_end": -0.09999999999999998,
            "bin_start": -0.19999999999999996,
            "count": 0
           },
           {
            "bin_end": 0,
            "bin_start": -0.09999999999999998,
            "count": 0
           },
           {
            "bin_end": 0.10000000000000009,
            "bin_start": 0,
            "count": 5
           },
           {
            "bin_end": 0.20000000000000007,
            "bin_start": 0.10000000000000009,
            "count": 0
           },
           {
            "bin_end": 0.30000000000000004,
            "bin_start": 0.20000000000000007,
            "count": 0
           },
           {
            "bin_end": 0.4,
            "bin_start": 0.30000000000000004,
            "count": 0
           },
           {
            "bin_end": 0.5,
            "bin_start": 0.4,
            "count": 0
           }
          ],
          "max": "0",
          "min": "0",
          "nan_count": 0,
          "unique_count": 1
         }
        },
        {
         "dtype": "int64",
         "name": "karaoke",
         "stats": {
          "histogram": [
           {
            "bin_end": -0.4,
            "bin_start": -0.5,
            "count": 0
           },
           {
            "bin_end": -0.3,
            "bin_start": -0.4,
            "count": 0
           },
           {
            "bin_end": -0.19999999999999996,
            "bin_start": -0.3,
            "count": 0
           },
           {
            "bin_end": -0.09999999999999998,
            "bin_start": -0.19999999999999996,
            "count": 0
           },
           {
            "bin_end": 0,
            "bin_start": -0.09999999999999998,
            "count": 0
           },
           {
            "bin_end": 0.10000000000000009,
            "bin_start": 0,
            "count": 5
           },
           {
            "bin_end": 0.20000000000000007,
            "bin_start": 0.10000000000000009,
            "count": 0
           },
           {
            "bin_end": 0.30000000000000004,
            "bin_start": 0.20000000000000007,
            "count": 0
           },
           {
            "bin_end": 0.4,
            "bin_start": 0.30000000000000004,
            "count": 0
           },
           {
            "bin_end": 0.5,
            "bin_start": 0.4,
            "count": 0
           }
          ],
          "max": "0",
          "min": "0",
          "nan_count": 0,
          "unique_count": 1
         }
        },
        {
         "dtype": "int64",
         "name": "special_menu",
         "stats": {
          "histogram": [
           {
            "bin_end": -0.4,
            "bin_start": -0.5,
            "count": 0
           },
           {
            "bin_end": -0.3,
            "bin_start": -0.4,
            "count": 0
           },
           {
            "bin_end": -0.19999999999999996,
            "bin_start": -0.3,
            "count": 0
           },
           {
            "bin_end": -0.09999999999999998,
            "bin_start": -0.19999999999999996,
            "count": 0
           },
           {
            "bin_end": 0,
            "bin_start": -0.09999999999999998,
            "count": 0
           },
           {
            "bin_end": 0.10000000000000009,
            "bin_start": 0,
            "count": 5
           },
           {
            "bin_end": 0.20000000000000007,
            "bin_start": 0.10000000000000009,
            "count": 0
           },
           {
            "bin_end": 0.30000000000000004,
            "bin_start": 0.20000000000000007,
            "count": 0
           },
           {
            "bin_end": 0.4,
            "bin_start": 0.30000000000000004,
            "count": 0
           },
           {
            "bin_end": 0.5,
            "bin_start": 0.4,
            "count": 0
           }
          ],
          "max": "0",
          "min": "0",
          "nan_count": 0,
          "unique_count": 1
         }
        },
        {
         "dtype": "int64",
         "name": "sports_broadcasts",
         "stats": {
          "histogram": [
           {
            "bin_end": -0.4,
            "bin_start": -0.5,
            "count": 0
           },
           {
            "bin_end": -0.3,
            "bin_start": -0.4,
            "count": 0
           },
           {
            "bin_end": -0.19999999999999996,
            "bin_start": -0.3,
            "count": 0
           },
           {
            "bin_end": -0.09999999999999998,
            "bin_start": -0.19999999999999996,
            "count": 0
           },
           {
            "bin_end": 0,
            "bin_start": -0.09999999999999998,
            "count": 0
           },
           {
            "bin_end": 0.10000000000000009,
            "bin_start": 0,
            "count": 5
           },
           {
            "bin_end": 0.20000000000000007,
            "bin_start": 0.10000000000000009,
            "count": 0
           },
           {
            "bin_end": 0.30000000000000004,
            "bin_start": 0.20000000000000007,
            "count": 0
           },
           {
            "bin_end": 0.4,
            "bin_start": 0.30000000000000004,
            "count": 0
           },
           {
            "bin_end": 0.5,
            "bin_start": 0.4,
            "count": 0
           }
          ],
          "max": "0",
          "min": "0",
          "nan_count": 0,
          "unique_count": 1
         }
        },
        {
         "dtype": "int64",
         "name": "food_court1",
         "stats": {
          "histogram": [
           {
            "bin_end": -0.4,
            "bin_start": -0.5,
            "count": 0
           },
           {
            "bin_end": -0.3,
            "bin_start": -0.4,
            "count": 0
           },
           {
            "bin_end": -0.19999999999999996,
            "bin_start": -0.3,
            "count": 0
           },
           {
            "bin_end": -0.09999999999999998,
            "bin_start": -0.19999999999999996,
            "count": 0
           },
           {
            "bin_end": 0,
            "bin_start": -0.09999999999999998,
            "count": 0
           },
           {
            "bin_end": 0.10000000000000009,
            "bin_start": 0,
            "count": 5
           },
           {
            "bin_end": 0.20000000000000007,
            "bin_start": 0.10000000000000009,
            "count": 0
           },
           {
            "bin_end": 0.30000000000000004,
            "bin_start": 0.20000000000000007,
            "count": 0
           },
           {
            "bin_end": 0.4,
            "bin_start": 0.30000000000000004,
            "count": 0
           },
           {
            "bin_end": 0.5,
            "bin_start": 0.4,
            "count": 0
           }
          ],
          "max": "0",
          "min": "0",
          "nan_count": 0,
          "unique_count": 1
         }
        },
        {
         "dtype": "int64",
         "name": "craft_beer",
         "stats": {
          "histogram": [
           {
            "bin_end": -0.4,
            "bin_start": -0.5,
            "count": 0
           },
           {
            "bin_end": -0.3,
            "bin_start": -0.4,
            "count": 0
           },
           {
            "bin_end": -0.19999999999999996,
            "bin_start": -0.3,
            "count": 0
           },
           {
            "bin_end": -0.09999999999999998,
            "bin_start": -0.19999999999999996,
            "count": 0
           },
           {
            "bin_end": 0,
            "bin_start": -0.09999999999999998,
            "count": 0
           },
           {
            "bin_end": 0.10000000000000009,
            "bin_start": 0,
            "count": 5
           },
           {
            "bin_end": 0.20000000000000007,
            "bin_start": 0.10000000000000009,
            "count": 0
           },
           {
            "bin_end": 0.30000000000000004,
            "bin_start": 0.20000000000000007,
            "count": 0
           },
           {
            "bin_end": 0.4,
            "bin_start": 0.30000000000000004,
            "count": 0
           },
           {
            "bin_end": 0.5,
            "bin_start": 0.4,
            "count": 0
           }
          ],
          "max": "0",
          "min": "0",
          "nan_count": 0,
          "unique_count": 1
         }
        },
        {
         "dtype": "int64",
         "name": "projector",
         "stats": {
          "histogram": [
           {
            "bin_end": -0.4,
            "bin_start": -0.5,
            "count": 0
           },
           {
            "bin_end": -0.3,
            "bin_start": -0.4,
            "count": 0
           },
           {
            "bin_end": -0.19999999999999996,
            "bin_start": -0.3,
            "count": 0
           },
           {
            "bin_end": -0.09999999999999998,
            "bin_start": -0.19999999999999996,
            "count": 0
           },
           {
            "bin_end": 0,
            "bin_start": -0.09999999999999998,
            "count": 0
           },
           {
            "bin_end": 0.10000000000000009,
            "bin_start": 0,
            "count": 5
           },
           {
            "bin_end": 0.20000000000000007,
            "bin_start": 0.10000000000000009,
            "count": 0
           },
           {
            "bin_end": 0.30000000000000004,
            "bin_start": 0.20000000000000007,
            "count": 0
           },
           {
            "bin_end": 0.4,
            "bin_start": 0.30000000000000004,
            "count": 0
           },
           {
            "bin_end": 0.5,
            "bin_start": 0.4,
            "count": 0
           }
          ],
          "max": "0",
          "min": "0",
          "nan_count": 0,
          "unique_count": 1
         }
        },
        {
         "dtype": "int64",
         "name": "gift_certificate",
         "stats": {
          "histogram": [
           {
            "bin_end": -0.4,
            "bin_start": -0.5,
            "count": 0
           },
           {
            "bin_end": -0.3,
            "bin_start": -0.4,
            "count": 0
           },
           {
            "bin_end": -0.19999999999999996,
            "bin_start": -0.3,
            "count": 0
           },
           {
            "bin_end": -0.09999999999999998,
            "bin_start": -0.19999999999999996,
            "count": 0
           },
           {
            "bin_end": 0,
            "bin_start": -0.09999999999999998,
            "count": 0
           },
           {
            "bin_end": 0.10000000000000009,
            "bin_start": 0,
            "count": 5
           },
           {
            "bin_end": 0.20000000000000007,
            "bin_start": 0.10000000000000009,
            "count": 0
           },
           {
            "bin_end": 0.30000000000000004,
            "bin_start": 0.20000000000000007,
            "count": 0
           },
           {
            "bin_end": 0.4,
            "bin_start": 0.30000000000000004,
            "count": 0
           },
           {
            "bin_end": 0.5,
            "bin_start": 0.4,
            "count": 0
           }
          ],
          "max": "0",
          "min": "0",
          "nan_count": 0,
          "unique_count": 1
         }
        },
        {
         "dtype": "int64",
         "name": "wheelchair_access",
         "stats": {
          "histogram": [
           {
            "bin_end": -0.4,
            "bin_start": -0.5,
            "count": 0
           },
           {
            "bin_end": -0.3,
            "bin_start": -0.4,
            "count": 0
           },
           {
            "bin_end": -0.19999999999999996,
            "bin_start": -0.3,
            "count": 0
           },
           {
            "bin_end": -0.09999999999999998,
            "bin_start": -0.19999999999999996,
            "count": 0
           },
           {
            "bin_end": 0,
            "bin_start": -0.09999999999999998,
            "count": 0
           },
           {
            "bin_end": 0.10000000000000009,
            "bin_start": 0,
            "count": 5
           },
           {
            "bin_end": 0.20000000000000007,
            "bin_start": 0.10000000000000009,
            "count": 0
           },
           {
            "bin_end": 0.30000000000000004,
            "bin_start": 0.20000000000000007,
            "count": 0
           },
           {
            "bin_end": 0.4,
            "bin_start": 0.30000000000000004,
            "count": 0
           },
           {
            "bin_end": 0.5,
            "bin_start": 0.4,
            "count": 0
           }
          ],
          "max": "0",
          "min": "0",
          "nan_count": 0,
          "unique_count": 1
         }
        },
        {
         "dtype": "int64",
         "name": "automatic_door",
         "stats": {
          "histogram": [
           {
            "bin_end": -0.4,
            "bin_start": -0.5,
            "count": 0
           },
           {
            "bin_end": -0.3,
            "bin_start": -0.4,
            "count": 0
           },
           {
            "bin_end": -0.19999999999999996,
            "bin_start": -0.3,
            "count": 0
           },
           {
            "bin_end": -0.09999999999999998,
            "bin_start": -0.19999999999999996,
            "count": 0
           },
           {
            "bin_end": 0,
            "bin_start": -0.09999999999999998,
            "count": 0
           },
           {
            "bin_end": 0.10000000000000009,
            "bin_start": 0,
            "count": 5
           },
           {
            "bin_end": 0.20000000000000007,
            "bin_start": 0.10000000000000009,
            "count": 0
           },
           {
            "bin_end": 0.30000000000000004,
            "bin_start": 0.20000000000000007,
            "count": 0
           },
           {
            "bin_end": 0.4,
            "bin_start": 0.30000000000000004,
            "count": 0
           },
           {
            "bin_end": 0.5,
            "bin_start": 0.4,
            "count": 0
           }
          ],
          "max": "0",
          "min": "0",
          "nan_count": 0,
          "unique_count": 1
         }
        },
        {
         "dtype": "int64",
         "name": "food_product_delivery",
         "stats": {
          "histogram": [
           {
            "bin_end": -0.4,
            "bin_start": -0.5,
            "count": 0
           },
           {
            "bin_end": -0.3,
            "bin_start": -0.4,
            "count": 0
           },
           {
            "bin_end": -0.19999999999999996,
            "bin_start": -0.3,
            "count": 0
           },
           {
            "bin_end": -0.09999999999999998,
            "bin_start": -0.19999999999999996,
            "count": 0
           },
           {
            "bin_end": 0,
            "bin_start": -0.09999999999999998,
            "count": 0
           },
           {
            "bin_end": 0.10000000000000009,
            "bin_start": 0,
            "count": 5
           },
           {
            "bin_end": 0.20000000000000007,
            "bin_start": 0.10000000000000009,
            "count": 0
           },
           {
            "bin_end": 0.30000000000000004,
            "bin_start": 0.20000000000000007,
            "count": 0
           },
           {
            "bin_end": 0.4,
            "bin_start": 0.30000000000000004,
            "count": 0
           },
           {
            "bin_end": 0.5,
            "bin_start": 0.4,
            "count": 0
           }
          ],
          "max": "0",
          "min": "0",
          "nan_count": 0,
          "unique_count": 1
         }
        },
        {
         "dtype": "int64",
         "name": "car_park",
         "stats": {
          "histogram": [
           {
            "bin_end": -0.4,
            "bin_start": -0.5,
            "count": 0
           },
           {
            "bin_end": -0.3,
            "bin_start": -0.4,
            "count": 0
           },
           {
            "bin_end": -0.19999999999999996,
            "bin_start": -0.3,
            "count": 0
           },
           {
            "bin_end": -0.09999999999999998,
            "bin_start": -0.19999999999999996,
            "count": 0
           },
           {
            "bin_end": 0,
            "bin_start": -0.09999999999999998,
            "count": 0
           },
           {
            "bin_end": 0.10000000000000009,
            "bin_start": 0,
            "count": 5
           },
           {
            "bin_end": 0.20000000000000007,
            "bin_start": 0.10000000000000009,
            "count": 0
           },
           {
            "bin_end": 0.30000000000000004,
            "bin_start": 0.20000000000000007,
            "count": 0
           },
           {
            "bin_end": 0.4,
            "bin_start": 0.30000000000000004,
            "count": 0
           },
           {
            "bin_end": 0.5,
            "bin_start": 0.4,
            "count": 0
           }
          ],
          "max": "0",
          "min": "0",
          "nan_count": 0,
          "unique_count": 1
         }
        },
        {
         "dtype": "int64",
         "name": "parking_disabled",
         "stats": {
          "histogram": [
           {
            "bin_end": -0.4,
            "bin_start": -0.5,
            "count": 0
           },
           {
            "bin_end": -0.3,
            "bin_start": -0.4,
            "count": 0
           },
           {
            "bin_end": -0.19999999999999996,
            "bin_start": -0.3,
            "count": 0
           },
           {
            "bin_end": -0.09999999999999998,
            "bin_start": -0.19999999999999996,
            "count": 0
           },
           {
            "bin_end": 0,
            "bin_start": -0.09999999999999998,
            "count": 0
           },
           {
            "bin_end": 0.10000000000000009,
            "bin_start": 0,
            "count": 5
           },
           {
            "bin_end": 0.20000000000000007,
            "bin_start": 0.10000000000000009,
            "count": 0
           },
           {
            "bin_end": 0.30000000000000004,
            "bin_start": 0.20000000000000007,
            "count": 0
           },
           {
            "bin_end": 0.4,
            "bin_start": 0.30000000000000004,
            "count": 0
           },
           {
            "bin_end": 0.5,
            "bin_start": 0.4,
            "count": 0
           }
          ],
          "max": "0",
          "min": "0",
          "nan_count": 0,
          "unique_count": 1
         }
        },
        {
         "dtype": "int64",
         "name": "toilet_for_disabled",
         "stats": {
          "histogram": [
           {
            "bin_end": -0.4,
            "bin_start": -0.5,
            "count": 0
           },
           {
            "bin_end": -0.3,
            "bin_start": -0.4,
            "count": 0
           },
           {
            "bin_end": -0.19999999999999996,
            "bin_start": -0.3,
            "count": 0
           },
           {
            "bin_end": -0.09999999999999998,
            "bin_start": -0.19999999999999996,
            "count": 0
           },
           {
            "bin_end": 0,
            "bin_start": -0.09999999999999998,
            "count": 0
           },
           {
            "bin_end": 0.10000000000000009,
            "bin_start": 0,
            "count": 5
           },
           {
            "bin_end": 0.20000000000000007,
            "bin_start": 0.10000000000000009,
            "count": 0
           },
           {
            "bin_end": 0.30000000000000004,
            "bin_start": 0.20000000000000007,
            "count": 0
           },
           {
            "bin_end": 0.4,
            "bin_start": 0.30000000000000004,
            "count": 0
           },
           {
            "bin_end": 0.5,
            "bin_start": 0.4,
            "count": 0
           }
          ],
          "max": "0",
          "min": "0",
          "nan_count": 0,
          "unique_count": 1
         }
        },
        {
         "dtype": "int64",
         "name": "promotions",
         "stats": {
          "histogram": [
           {
            "bin_end": -0.4,
            "bin_start": -0.5,
            "count": 0
           },
           {
            "bin_end": -0.3,
            "bin_start": -0.4,
            "count": 0
           },
           {
            "bin_end": -0.19999999999999996,
            "bin_start": -0.3,
            "count": 0
           },
           {
            "bin_end": -0.09999999999999998,
            "bin_start": -0.19999999999999996,
            "count": 0
           },
           {
            "bin_end": 0,
            "bin_start": -0.09999999999999998,
            "count": 0
           },
           {
            "bin_end": 0.10000000000000009,
            "bin_start": 0,
            "count": 5
           },
           {
            "bin_end": 0.20000000000000007,
            "bin_start": 0.10000000000000009,
            "count": 0
           },
           {
            "bin_end": 0.30000000000000004,
            "bin_start": 0.20000000000000007,
            "count": 0
           },
           {
            "bin_end": 0.4,
            "bin_start": 0.30000000000000004,
            "count": 0
           },
           {
            "bin_end": 0.5,
            "bin_start": 0.4,
            "count": 0
           }
          ],
          "max": "0",
          "min": "0",
          "nan_count": 0,
          "unique_count": 1
         }
        },
        {
         "dtype": "int64",
         "name": "cafe",
         "stats": {
          "histogram": [
           {
            "bin_end": -0.4,
            "bin_start": -0.5,
            "count": 0
           },
           {
            "bin_end": -0.3,
            "bin_start": -0.4,
            "count": 0
           },
           {
            "bin_end": -0.19999999999999996,
            "bin_start": -0.3,
            "count": 0
           },
           {
            "bin_end": -0.09999999999999998,
            "bin_start": -0.19999999999999996,
            "count": 0
           },
           {
            "bin_end": 0,
            "bin_start": -0.09999999999999998,
            "count": 0
           },
           {
            "bin_end": 0.10000000000000009,
            "bin_start": 0,
            "count": 5
           },
           {
            "bin_end": 0.20000000000000007,
            "bin_start": 0.10000000000000009,
            "count": 0
           },
           {
            "bin_end": 0.30000000000000004,
            "bin_start": 0.20000000000000007,
            "count": 0
           },
           {
            "bin_end": 0.4,
            "bin_start": 0.30000000000000004,
            "count": 0
           },
           {
            "bin_end": 0.5,
            "bin_start": 0.4,
            "count": 0
           }
          ],
          "max": "0",
          "min": "0",
          "nan_count": 0,
          "unique_count": 1
         }
        },
        {
         "dtype": "int64",
         "name": "minimum_order",
         "stats": {
          "histogram": [
           {
            "bin_end": -0.4,
            "bin_start": -0.5,
            "count": 0
           },
           {
            "bin_end": -0.3,
            "bin_start": -0.4,
            "count": 0
           },
           {
            "bin_end": -0.19999999999999996,
            "bin_start": -0.3,
            "count": 0
           },
           {
            "bin_end": -0.09999999999999998,
            "bin_start": -0.19999999999999996,
            "count": 0
           },
           {
            "bin_end": 0,
            "bin_start": -0.09999999999999998,
            "count": 0
           },
           {
            "bin_end": 0.10000000000000009,
            "bin_start": 0,
            "count": 5
           },
           {
            "bin_end": 0.20000000000000007,
            "bin_start": 0.10000000000000009,
            "count": 0
           },
           {
            "bin_end": 0.30000000000000004,
            "bin_start": 0.20000000000000007,
            "count": 0
           },
           {
            "bin_end": 0.4,
            "bin_start": 0.30000000000000004,
            "count": 0
           },
           {
            "bin_end": 0.5,
            "bin_start": 0.4,
            "count": 0
           }
          ],
          "max": "0",
          "min": "0",
          "nan_count": 0,
          "unique_count": 1
         }
        },
        {
         "dtype": "int64",
         "name": "free_delivery",
         "stats": {
          "histogram": [
           {
            "bin_end": -0.4,
            "bin_start": -0.5,
            "count": 0
           },
           {
            "bin_end": -0.3,
            "bin_start": -0.4,
            "count": 0
           },
           {
            "bin_end": -0.19999999999999996,
            "bin_start": -0.3,
            "count": 0
           },
           {
            "bin_end": -0.09999999999999998,
            "bin_start": -0.19999999999999996,
            "count": 0
           },
           {
            "bin_end": 0,
            "bin_start": -0.09999999999999998,
            "count": 0
           },
           {
            "bin_end": 0.10000000000000009,
            "bin_start": 0,
            "count": 5
           },
           {
            "bin_end": 0.20000000000000007,
            "bin_start": 0.10000000000000009,
            "count": 0
           },
           {
            "bin_end": 0.30000000000000004,
            "bin_start": 0.20000000000000007,
            "count": 0
           },
           {
            "bin_end": 0.4,
            "bin_start": 0.30000000000000004,
            "count": 0
           },
           {
            "bin_end": 0.5,
            "bin_start": 0.4,
            "count": 0
           }
          ],
          "max": "0",
          "min": "0",
          "nan_count": 0,
          "unique_count": 1
         }
        },
        {
         "dtype": "int64",
         "name": "self_service_kiosks",
         "stats": {
          "histogram": [
           {
            "bin_end": -0.4,
            "bin_start": -0.5,
            "count": 0
           },
           {
            "bin_end": -0.3,
            "bin_start": -0.4,
            "count": 0
           },
           {
            "bin_end": -0.19999999999999996,
            "bin_start": -0.3,
            "count": 0
           },
           {
            "bin_end": -0.09999999999999998,
            "bin_start": -0.19999999999999996,
            "count": 0
           },
           {
            "bin_end": 0,
            "bin_start": -0.09999999999999998,
            "count": 0
           },
           {
            "bin_end": 0.10000000000000009,
            "bin_start": 0,
            "count": 5
           },
           {
            "bin_end": 0.20000000000000007,
            "bin_start": 0.10000000000000009,
            "count": 0
           },
           {
            "bin_end": 0.30000000000000004,
            "bin_start": 0.20000000000000007,
            "count": 0
           },
           {
            "bin_end": 0.4,
            "bin_start": 0.30000000000000004,
            "count": 0
           },
           {
            "bin_end": 0.5,
            "bin_start": 0.4,
            "count": 0
           }
          ],
          "max": "0",
          "min": "0",
          "nan_count": 0,
          "unique_count": 1
         }
        },
        {
         "dtype": "int64",
         "name": "has_restaurant",
         "stats": {
          "histogram": [
           {
            "bin_end": -0.4,
            "bin_start": -0.5,
            "count": 0
           },
           {
            "bin_end": -0.3,
            "bin_start": -0.4,
            "count": 0
           },
           {
            "bin_end": -0.19999999999999996,
            "bin_start": -0.3,
            "count": 0
           },
           {
            "bin_end": -0.09999999999999998,
            "bin_start": -0.19999999999999996,
            "count": 0
           },
           {
            "bin_end": 0,
            "bin_start": -0.09999999999999998,
            "count": 0
           },
           {
            "bin_end": 0.10000000000000009,
            "bin_start": 0,
            "count": 5
           },
           {
            "bin_end": 0.20000000000000007,
            "bin_start": 0.10000000000000009,
            "count": 0
           },
           {
            "bin_end": 0.30000000000000004,
            "bin_start": 0.20000000000000007,
            "count": 0
           },
           {
            "bin_end": 0.4,
            "bin_start": 0.30000000000000004,
            "count": 0
           },
           {
            "bin_end": 0.5,
            "bin_start": 0.4,
            "count": 0
           }
          ],
          "max": "0",
          "min": "0",
          "nan_count": 0,
          "unique_count": 1
         }
        },
        {
         "dtype": "int64",
         "name": "air_conditioning",
         "stats": {
          "histogram": [
           {
            "bin_end": -0.4,
            "bin_start": -0.5,
            "count": 0
           },
           {
            "bin_end": -0.3,
            "bin_start": -0.4,
            "count": 0
           },
           {
            "bin_end": -0.19999999999999996,
            "bin_start": -0.3,
            "count": 0
           },
           {
            "bin_end": -0.09999999999999998,
            "bin_start": -0.19999999999999996,
            "count": 0
           },
           {
            "bin_end": 0,
            "bin_start": -0.09999999999999998,
            "count": 0
           },
           {
            "bin_end": 0.10000000000000009,
            "bin_start": 0,
            "count": 5
           },
           {
            "bin_end": 0.20000000000000007,
            "bin_start": 0.10000000000000009,
            "count": 0
           },
           {
            "bin_end": 0.30000000000000004,
            "bin_start": 0.20000000000000007,
            "count": 0
           },
           {
            "bin_end": 0.4,
            "bin_start": 0.30000000000000004,
            "count": 0
           },
           {
            "bin_end": 0.5,
            "bin_start": 0.4,
            "count": 0
           }
          ],
          "max": "0",
          "min": "0",
          "nan_count": 0,
          "unique_count": 1
         }
        },
        {
         "dtype": "int64",
         "name": "pets",
         "stats": {
          "histogram": [
           {
            "bin_end": -0.4,
            "bin_start": -0.5,
            "count": 0
           },
           {
            "bin_end": -0.3,
            "bin_start": -0.4,
            "count": 0
           },
           {
            "bin_end": -0.19999999999999996,
            "bin_start": -0.3,
            "count": 0
           },
           {
            "bin_end": -0.09999999999999998,
            "bin_start": -0.19999999999999996,
            "count": 0
           },
           {
            "bin_end": 0,
            "bin_start": -0.09999999999999998,
            "count": 0
           },
           {
            "bin_end": 0.10000000000000009,
            "bin_start": 0,
            "count": 5
           },
           {
            "bin_end": 0.20000000000000007,
            "bin_start": 0.10000000000000009,
            "count": 0
           },
           {
            "bin_end": 0.30000000000000004,
            "bin_start": 0.20000000000000007,
            "count": 0
           },
           {
            "bin_end": 0.4,
            "bin_start": 0.30000000000000004,
            "count": 0
           },
           {
            "bin_end": 0.5,
            "bin_start": 0.4,
            "count": 0
           }
          ],
          "max": "0",
          "min": "0",
          "nan_count": 0,
          "unique_count": 1
         }
        },
        {
         "dtype": "int64",
         "name": "elevator",
         "stats": {
          "histogram": [
           {
            "bin_end": -0.4,
            "bin_start": -0.5,
            "count": 0
           },
           {
            "bin_end": -0.3,
            "bin_start": -0.4,
            "count": 0
           },
           {
            "bin_end": -0.19999999999999996,
            "bin_start": -0.3,
            "count": 0
           },
           {
            "bin_end": -0.09999999999999998,
            "bin_start": -0.19999999999999996,
            "count": 0
           },
           {
            "bin_end": 0,
            "bin_start": -0.09999999999999998,
            "count": 0
           },
           {
            "bin_end": 0.10000000000000009,
            "bin_start": 0,
            "count": 5
           },
           {
            "bin_end": 0.20000000000000007,
            "bin_start": 0.10000000000000009,
            "count": 0
           },
           {
            "bin_end": 0.30000000000000004,
            "bin_start": 0.20000000000000007,
            "count": 0
           },
           {
            "bin_end": 0.4,
            "bin_start": 0.30000000000000004,
            "count": 0
           },
           {
            "bin_end": 0.5,
            "bin_start": 0.4,
            "count": 0
           }
          ],
          "max": "0",
          "min": "0",
          "nan_count": 0,
          "unique_count": 1
         }
        },
        {
         "dtype": "int64",
         "name": "has_bar",
         "stats": {
          "histogram": [
           {
            "bin_end": -0.4,
            "bin_start": -0.5,
            "count": 0
           },
           {
            "bin_end": -0.3,
            "bin_start": -0.4,
            "count": 0
           },
           {
            "bin_end": -0.19999999999999996,
            "bin_start": -0.3,
            "count": 0
           },
           {
            "bin_end": -0.09999999999999998,
            "bin_start": -0.19999999999999996,
            "count": 0
           },
           {
            "bin_end": 0,
            "bin_start": -0.09999999999999998,
            "count": 0
           },
           {
            "bin_end": 0.10000000000000009,
            "bin_start": 0,
            "count": 5
           },
           {
            "bin_end": 0.20000000000000007,
            "bin_start": 0.10000000000000009,
            "count": 0
           },
           {
            "bin_end": 0.30000000000000004,
            "bin_start": 0.20000000000000007,
            "count": 0
           },
           {
            "bin_end": 0.4,
            "bin_start": 0.30000000000000004,
            "count": 0
           },
           {
            "bin_end": 0.5,
            "bin_start": 0.4,
            "count": 0
           }
          ],
          "max": "0",
          "min": "0",
          "nan_count": 0,
          "unique_count": 1
         }
        },
        {
         "dtype": "int64",
         "name": "internet access",
         "stats": {
          "histogram": [
           {
            "bin_end": -0.4,
            "bin_start": -0.5,
            "count": 0
           },
           {
            "bin_end": -0.3,
            "bin_start": -0.4,
            "count": 0
           },
           {
            "bin_end": -0.19999999999999996,
            "bin_start": -0.3,
            "count": 0
           },
           {
            "bin_end": -0.09999999999999998,
            "bin_start": -0.19999999999999996,
            "count": 0
           },
           {
            "bin_end": 0,
            "bin_start": -0.09999999999999998,
            "count": 0
           },
           {
            "bin_end": 0.10000000000000009,
            "bin_start": 0,
            "count": 5
           },
           {
            "bin_end": 0.20000000000000007,
            "bin_start": 0.10000000000000009,
            "count": 0
           },
           {
            "bin_end": 0.30000000000000004,
            "bin_start": 0.20000000000000007,
            "count": 0
           },
           {
            "bin_end": 0.4,
            "bin_start": 0.30000000000000004,
            "count": 0
           },
           {
            "bin_end": 0.5,
            "bin_start": 0.4,
            "count": 0
           }
          ],
          "max": "0",
          "min": "0",
          "nan_count": 0,
          "unique_count": 1
         }
        },
        {
         "dtype": "int64",
         "name": "privilege_tickets",
         "stats": {
          "histogram": [
           {
            "bin_end": -0.4,
            "bin_start": -0.5,
            "count": 0
           },
           {
            "bin_end": -0.3,
            "bin_start": -0.4,
            "count": 0
           },
           {
            "bin_end": -0.19999999999999996,
            "bin_start": -0.3,
            "count": 0
           },
           {
            "bin_end": -0.09999999999999998,
            "bin_start": -0.19999999999999996,
            "count": 0
           },
           {
            "bin_end": 0,
            "bin_start": -0.09999999999999998,
            "count": 0
           },
           {
            "bin_end": 0.10000000000000009,
            "bin_start": 0,
            "count": 5
           },
           {
            "bin_end": 0.20000000000000007,
            "bin_start": 0.10000000000000009,
            "count": 0
           },
           {
            "bin_end": 0.30000000000000004,
            "bin_start": 0.20000000000000007,
            "count": 0
           },
           {
            "bin_end": 0.4,
            "bin_start": 0.30000000000000004,
            "count": 0
           },
           {
            "bin_end": 0.5,
            "bin_start": 0.4,
            "count": 0
           }
          ],
          "max": "0",
          "min": "0",
          "nan_count": 0,
          "unique_count": 1
         }
        },
        {
         "dtype": "int64",
         "name": "organic_food",
         "stats": {
          "histogram": [
           {
            "bin_end": -0.4,
            "bin_start": -0.5,
            "count": 0
           },
           {
            "bin_end": -0.3,
            "bin_start": -0.4,
            "count": 0
           },
           {
            "bin_end": -0.19999999999999996,
            "bin_start": -0.3,
            "count": 0
           },
           {
            "bin_end": -0.09999999999999998,
            "bin_start": -0.19999999999999996,
            "count": 0
           },
           {
            "bin_end": 0,
            "bin_start": -0.09999999999999998,
            "count": 0
           },
           {
            "bin_end": 0.10000000000000009,
            "bin_start": 0,
            "count": 5
           },
           {
            "bin_end": 0.20000000000000007,
            "bin_start": 0.10000000000000009,
            "count": 0
           },
           {
            "bin_end": 0.30000000000000004,
            "bin_start": 0.20000000000000007,
            "count": 0
           },
           {
            "bin_end": 0.4,
            "bin_start": 0.30000000000000004,
            "count": 0
           },
           {
            "bin_end": 0.5,
            "bin_start": 0.4,
            "count": 0
           }
          ],
          "max": "0",
          "min": "0",
          "nan_count": 0,
          "unique_count": 1
         }
        },
        {
         "dtype": "int64",
         "name": "vip_zone",
         "stats": {
          "histogram": [
           {
            "bin_end": -0.4,
            "bin_start": -0.5,
            "count": 0
           },
           {
            "bin_end": -0.3,
            "bin_start": -0.4,
            "count": 0
           },
           {
            "bin_end": -0.19999999999999996,
            "bin_start": -0.3,
            "count": 0
           },
           {
            "bin_end": -0.09999999999999998,
            "bin_start": -0.19999999999999996,
            "count": 0
           },
           {
            "bin_end": 0,
            "bin_start": -0.09999999999999998,
            "count": 0
           },
           {
            "bin_end": 0.10000000000000009,
            "bin_start": 0,
            "count": 5
           },
           {
            "bin_end": 0.20000000000000007,
            "bin_start": 0.10000000000000009,
            "count": 0
           },
           {
            "bin_end": 0.30000000000000004,
            "bin_start": 0.20000000000000007,
            "count": 0
           },
           {
            "bin_end": 0.4,
            "bin_start": 0.30000000000000004,
            "count": 0
           },
           {
            "bin_end": 0.5,
            "bin_start": 0.4,
            "count": 0
           }
          ],
          "max": "0",
          "min": "0",
          "nan_count": 0,
          "unique_count": 1
         }
        },
        {
         "dtype": "int64",
         "name": "hall_capacity",
         "stats": {
          "histogram": [
           {
            "bin_end": -0.4,
            "bin_start": -0.5,
            "count": 0
           },
           {
            "bin_end": -0.3,
            "bin_start": -0.4,
            "count": 0
           },
           {
            "bin_end": -0.19999999999999996,
            "bin_start": -0.3,
            "count": 0
           },
           {
            "bin_end": -0.09999999999999998,
            "bin_start": -0.19999999999999996,
            "count": 0
           },
           {
            "bin_end": 0,
            "bin_start": -0.09999999999999998,
            "count": 0
           },
           {
            "bin_end": 0.10000000000000009,
            "bin_start": 0,
            "count": 5
           },
           {
            "bin_end": 0.20000000000000007,
            "bin_start": 0.10000000000000009,
            "count": 0
           },
           {
            "bin_end": 0.30000000000000004,
            "bin_start": 0.20000000000000007,
            "count": 0
           },
           {
            "bin_end": 0.4,
            "bin_start": 0.30000000000000004,
            "count": 0
           },
           {
            "bin_end": 0.5,
            "bin_start": 0.4,
            "count": 0
           }
          ],
          "max": "0",
          "min": "0",
          "nan_count": 0,
          "unique_count": 1
         }
        },
        {
         "dtype": "int64",
         "name": "face_control",
         "stats": {
          "histogram": [
           {
            "bin_end": -0.4,
            "bin_start": -0.5,
            "count": 0
           },
           {
            "bin_end": -0.3,
            "bin_start": -0.4,
            "count": 0
           },
           {
            "bin_end": -0.19999999999999996,
            "bin_start": -0.3,
            "count": 0
           },
           {
            "bin_end": -0.09999999999999998,
            "bin_start": -0.19999999999999996,
            "count": 0
           },
           {
            "bin_end": 0,
            "bin_start": -0.09999999999999998,
            "count": 0
           },
           {
            "bin_end": 0.10000000000000009,
            "bin_start": 0,
            "count": 5
           },
           {
            "bin_end": 0.20000000000000007,
            "bin_start": 0.10000000000000009,
            "count": 0
           },
           {
            "bin_end": 0.30000000000000004,
            "bin_start": 0.20000000000000007,
            "count": 0
           },
           {
            "bin_end": 0.4,
            "bin_start": 0.30000000000000004,
            "count": 0
           },
           {
            "bin_end": 0.5,
            "bin_start": 0.4,
            "count": 0
           }
          ],
          "max": "0",
          "min": "0",
          "nan_count": 0,
          "unique_count": 1
         }
        },
        {
         "dtype": "int64",
         "name": "show_program",
         "stats": {
          "histogram": [
           {
            "bin_end": -0.4,
            "bin_start": -0.5,
            "count": 0
           },
           {
            "bin_end": -0.3,
            "bin_start": -0.4,
            "count": 0
           },
           {
            "bin_end": -0.19999999999999996,
            "bin_start": -0.3,
            "count": 0
           },
           {
            "bin_end": -0.09999999999999998,
            "bin_start": -0.19999999999999996,
            "count": 0
           },
           {
            "bin_end": 0,
            "bin_start": -0.09999999999999998,
            "count": 0
           },
           {
            "bin_end": 0.10000000000000009,
            "bin_start": 0,
            "count": 5
           },
           {
            "bin_end": 0.20000000000000007,
            "bin_start": 0.10000000000000009,
            "count": 0
           },
           {
            "bin_end": 0.30000000000000004,
            "bin_start": 0.20000000000000007,
            "count": 0
           },
           {
            "bin_end": 0.4,
            "bin_start": 0.30000000000000004,
            "count": 0
           },
           {
            "bin_end": 0.5,
            "bin_start": 0.4,
            "count": 0
           }
          ],
          "max": "0",
          "min": "0",
          "nan_count": 0,
          "unique_count": 1
         }
        },
        {
         "dtype": "int64",
         "name": "music",
         "stats": {
          "histogram": [
           {
            "bin_end": -0.4,
            "bin_start": -0.5,
            "count": 0
           },
           {
            "bin_end": -0.3,
            "bin_start": -0.4,
            "count": 0
           },
           {
            "bin_end": -0.19999999999999996,
            "bin_start": -0.3,
            "count": 0
           },
           {
            "bin_end": -0.09999999999999998,
            "bin_start": -0.19999999999999996,
            "count": 0
           },
           {
            "bin_end": 0,
            "bin_start": -0.09999999999999998,
            "count": 0
           },
           {
            "bin_end": 0.10000000000000009,
            "bin_start": 0,
            "count": 5
           },
           {
            "bin_end": 0.20000000000000007,
            "bin_start": 0.10000000000000009,
            "count": 0
           },
           {
            "bin_end": 0.30000000000000004,
            "bin_start": 0.20000000000000007,
            "count": 0
           },
           {
            "bin_end": 0.4,
            "bin_start": 0.30000000000000004,
            "count": 0
           },
           {
            "bin_end": 0.5,
            "bin_start": 0.4,
            "count": 0
           }
          ],
          "max": "0",
          "min": "0",
          "nan_count": 0,
          "unique_count": 1
         }
        },
        {
         "dtype": "int64",
         "name": "chillout",
         "stats": {
          "histogram": [
           {
            "bin_end": -0.4,
            "bin_start": -0.5,
            "count": 0
           },
           {
            "bin_end": -0.3,
            "bin_start": -0.4,
            "count": 0
           },
           {
            "bin_end": -0.19999999999999996,
            "bin_start": -0.3,
            "count": 0
           },
           {
            "bin_end": -0.09999999999999998,
            "bin_start": -0.19999999999999996,
            "count": 0
           },
           {
            "bin_end": 0,
            "bin_start": -0.09999999999999998,
            "count": 0
           },
           {
            "bin_end": 0.10000000000000009,
            "bin_start": 0,
            "count": 5
           },
           {
            "bin_end": 0.20000000000000007,
            "bin_start": 0.10000000000000009,
            "count": 0
           },
           {
            "bin_end": 0.30000000000000004,
            "bin_start": 0.20000000000000007,
            "count": 0
           },
           {
            "bin_end": 0.4,
            "bin_start": 0.30000000000000004,
            "count": 0
           },
           {
            "bin_end": 0.5,
            "bin_start": 0.4,
            "count": 0
           }
          ],
          "max": "0",
          "min": "0",
          "nan_count": 0,
          "unique_count": 1
         }
        },
        {
         "dtype": "int64",
         "name": "dancefloor",
         "stats": {
          "histogram": [
           {
            "bin_end": -0.4,
            "bin_start": -0.5,
            "count": 0
           },
           {
            "bin_end": -0.3,
            "bin_start": -0.4,
            "count": 0
           },
           {
            "bin_end": -0.19999999999999996,
            "bin_start": -0.3,
            "count": 0
           },
           {
            "bin_end": -0.09999999999999998,
            "bin_start": -0.19999999999999996,
            "count": 0
           },
           {
            "bin_end": 0,
            "bin_start": -0.09999999999999998,
            "count": 0
           },
           {
            "bin_end": 0.10000000000000009,
            "bin_start": 0,
            "count": 5
           },
           {
            "bin_end": 0.20000000000000007,
            "bin_start": 0.10000000000000009,
            "count": 0
           },
           {
            "bin_end": 0.30000000000000004,
            "bin_start": 0.20000000000000007,
            "count": 0
           },
           {
            "bin_end": 0.4,
            "bin_start": 0.30000000000000004,
            "count": 0
           },
           {
            "bin_end": 0.5,
            "bin_start": 0.4,
            "count": 0
           }
          ],
          "max": "0",
          "min": "0",
          "nan_count": 0,
          "unique_count": 1
         }
        },
        {
         "dtype": "int64",
         "name": "dress_code",
         "stats": {
          "histogram": [
           {
            "bin_end": -0.4,
            "bin_start": -0.5,
            "count": 0
           },
           {
            "bin_end": -0.3,
            "bin_start": -0.4,
            "count": 0
           },
           {
            "bin_end": -0.19999999999999996,
            "bin_start": -0.3,
            "count": 0
           },
           {
            "bin_end": -0.09999999999999998,
            "bin_start": -0.19999999999999996,
            "count": 0
           },
           {
            "bin_end": 0,
            "bin_start": -0.09999999999999998,
            "count": 0
           },
           {
            "bin_end": 0.10000000000000009,
            "bin_start": 0,
            "count": 5
           },
           {
            "bin_end": 0.20000000000000007,
            "bin_start": 0.10000000000000009,
            "count": 0
           },
           {
            "bin_end": 0.30000000000000004,
            "bin_start": 0.20000000000000007,
            "count": 0
           },
           {
            "bin_end": 0.4,
            "bin_start": 0.30000000000000004,
            "count": 0
           },
           {
            "bin_end": 0.5,
            "bin_start": 0.4,
            "count": 0
           }
          ],
          "max": "0",
          "min": "0",
          "nan_count": 0,
          "unique_count": 1
         }
        },
        {
         "dtype": "int64",
         "name": "billiards",
         "stats": {
          "histogram": [
           {
            "bin_end": -0.4,
            "bin_start": -0.5,
            "count": 0
           },
           {
            "bin_end": -0.3,
            "bin_start": -0.4,
            "count": 0
           },
           {
            "bin_end": -0.19999999999999996,
            "bin_start": -0.3,
            "count": 0
           },
           {
            "bin_end": -0.09999999999999998,
            "bin_start": -0.19999999999999996,
            "count": 0
           },
           {
            "bin_end": 0,
            "bin_start": -0.09999999999999998,
            "count": 0
           },
           {
            "bin_end": 0.10000000000000009,
            "bin_start": 0,
            "count": 5
           },
           {
            "bin_end": 0.20000000000000007,
            "bin_start": 0.10000000000000009,
            "count": 0
           },
           {
            "bin_end": 0.30000000000000004,
            "bin_start": 0.20000000000000007,
            "count": 0
           },
           {
            "bin_end": 0.4,
            "bin_start": 0.30000000000000004,
            "count": 0
           },
           {
            "bin_end": 0.5,
            "bin_start": 0.4,
            "count": 0
           }
          ],
          "max": "0",
          "min": "0",
          "nan_count": 0,
          "unique_count": 1
         }
        },
        {
         "dtype": "int64",
         "name": "strip",
         "stats": {
          "histogram": [
           {
            "bin_end": -0.4,
            "bin_start": -0.5,
            "count": 0
           },
           {
            "bin_end": -0.3,
            "bin_start": -0.4,
            "count": 0
           },
           {
            "bin_end": -0.19999999999999996,
            "bin_start": -0.3,
            "count": 0
           },
           {
            "bin_end": -0.09999999999999998,
            "bin_start": -0.19999999999999996,
            "count": 0
           },
           {
            "bin_end": 0,
            "bin_start": -0.09999999999999998,
            "count": 0
           },
           {
            "bin_end": 0.10000000000000009,
            "bin_start": 0,
            "count": 5
           },
           {
            "bin_end": 0.20000000000000007,
            "bin_start": 0.10000000000000009,
            "count": 0
           },
           {
            "bin_end": 0.30000000000000004,
            "bin_start": 0.20000000000000007,
            "count": 0
           },
           {
            "bin_end": 0.4,
            "bin_start": 0.30000000000000004,
            "count": 0
           },
           {
            "bin_end": 0.5,
            "bin_start": 0.4,
            "count": 0
           }
          ],
          "max": "0",
          "min": "0",
          "nan_count": 0,
          "unique_count": 1
         }
        },
        {
         "dtype": "int64",
         "name": "elevator_wheelchair_accessible",
         "stats": {
          "histogram": [
           {
            "bin_end": -0.4,
            "bin_start": -0.5,
            "count": 0
           },
           {
            "bin_end": -0.3,
            "bin_start": -0.4,
            "count": 0
           },
           {
            "bin_end": -0.19999999999999996,
            "bin_start": -0.3,
            "count": 0
           },
           {
            "bin_end": -0.09999999999999998,
            "bin_start": -0.19999999999999996,
            "count": 0
           },
           {
            "bin_end": 0,
            "bin_start": -0.09999999999999998,
            "count": 0
           },
           {
            "bin_end": 0.10000000000000009,
            "bin_start": 0,
            "count": 5
           },
           {
            "bin_end": 0.20000000000000007,
            "bin_start": 0.10000000000000009,
            "count": 0
           },
           {
            "bin_end": 0.30000000000000004,
            "bin_start": 0.20000000000000007,
            "count": 0
           },
           {
            "bin_end": 0.4,
            "bin_start": 0.30000000000000004,
            "count": 0
           },
           {
            "bin_end": 0.5,
            "bin_start": 0.4,
            "count": 0
           }
          ],
          "max": "0",
          "min": "0",
          "nan_count": 0,
          "unique_count": 1
         }
        },
        {
         "dtype": "int64",
         "name": "ramp",
         "stats": {
          "histogram": [
           {
            "bin_end": -0.4,
            "bin_start": -0.5,
            "count": 0
           },
           {
            "bin_end": -0.3,
            "bin_start": -0.4,
            "count": 0
           },
           {
            "bin_end": -0.19999999999999996,
            "bin_start": -0.3,
            "count": 0
           },
           {
            "bin_end": -0.09999999999999998,
            "bin_start": -0.19999999999999996,
            "count": 0
           },
           {
            "bin_end": 0,
            "bin_start": -0.09999999999999998,
            "count": 0
           },
           {
            "bin_end": 0.10000000000000009,
            "bin_start": 0,
            "count": 5
           },
           {
            "bin_end": 0.20000000000000007,
            "bin_start": 0.10000000000000009,
            "count": 0
           },
           {
            "bin_end": 0.30000000000000004,
            "bin_start": 0.20000000000000007,
            "count": 0
           },
           {
            "bin_end": 0.4,
            "bin_start": 0.30000000000000004,
            "count": 0
           },
           {
            "bin_end": 0.5,
            "bin_start": 0.4,
            "count": 0
           }
          ],
          "max": "0",
          "min": "0",
          "nan_count": 0,
          "unique_count": 1
         }
        },
        {
         "dtype": "int64",
         "name": "around_the_clock_work1",
         "stats": {
          "histogram": [
           {
            "bin_end": -0.4,
            "bin_start": -0.5,
            "count": 0
           },
           {
            "bin_end": -0.3,
            "bin_start": -0.4,
            "count": 0
           },
           {
            "bin_end": -0.19999999999999996,
            "bin_start": -0.3,
            "count": 0
           },
           {
            "bin_end": -0.09999999999999998,
            "bin_start": -0.19999999999999996,
            "count": 0
           },
           {
            "bin_end": 0,
            "bin_start": -0.09999999999999998,
            "count": 0
           },
           {
            "bin_end": 0.10000000000000009,
            "bin_start": 0,
            "count": 5
           },
           {
            "bin_end": 0.20000000000000007,
            "bin_start": 0.10000000000000009,
            "count": 0
           },
           {
            "bin_end": 0.30000000000000004,
            "bin_start": 0.20000000000000007,
            "count": 0
           },
           {
            "bin_end": 0.4,
            "bin_start": 0.30000000000000004,
            "count": 0
           },
           {
            "bin_end": 0.5,
            "bin_start": 0.4,
            "count": 0
           }
          ],
          "max": "0",
          "min": "0",
          "nan_count": 0,
          "unique_count": 1
         }
        },
        {
         "dtype": "int64",
         "name": "pickup",
         "stats": {
          "histogram": [
           {
            "bin_end": -0.4,
            "bin_start": -0.5,
            "count": 0
           },
           {
            "bin_end": -0.3,
            "bin_start": -0.4,
            "count": 0
           },
           {
            "bin_end": -0.19999999999999996,
            "bin_start": -0.3,
            "count": 0
           },
           {
            "bin_end": -0.09999999999999998,
            "bin_start": -0.19999999999999996,
            "count": 0
           },
           {
            "bin_end": 0,
            "bin_start": -0.09999999999999998,
            "count": 0
           },
           {
            "bin_end": 0.10000000000000009,
            "bin_start": 0,
            "count": 5
           },
           {
            "bin_end": 0.20000000000000007,
            "bin_start": 0.10000000000000009,
            "count": 0
           },
           {
            "bin_end": 0.30000000000000004,
            "bin_start": 0.20000000000000007,
            "count": 0
           },
           {
            "bin_end": 0.4,
            "bin_start": 0.30000000000000004,
            "count": 0
           },
           {
            "bin_end": 0.5,
            "bin_start": 0.4,
            "count": 0
           }
          ],
          "max": "0",
          "min": "0",
          "nan_count": 0,
          "unique_count": 1
         }
        },
        {
         "dtype": "int64",
         "name": "farm_products",
         "stats": {
          "histogram": [
           {
            "bin_end": -0.4,
            "bin_start": -0.5,
            "count": 0
           },
           {
            "bin_end": -0.3,
            "bin_start": -0.4,
            "count": 0
           },
           {
            "bin_end": -0.19999999999999996,
            "bin_start": -0.3,
            "count": 0
           },
           {
            "bin_end": -0.09999999999999998,
            "bin_start": -0.19999999999999996,
            "count": 0
           },
           {
            "bin_end": 0,
            "bin_start": -0.09999999999999998,
            "count": 0
           },
           {
            "bin_end": 0.10000000000000009,
            "bin_start": 0,
            "count": 5
           },
           {
            "bin_end": 0.20000000000000007,
            "bin_start": 0.10000000000000009,
            "count": 0
           },
           {
            "bin_end": 0.30000000000000004,
            "bin_start": 0.20000000000000007,
            "count": 0
           },
           {
            "bin_end": 0.4,
            "bin_start": 0.30000000000000004,
            "count": 0
           },
           {
            "bin_end": 0.5,
            "bin_start": 0.4,
            "count": 0
           }
          ],
          "max": "0",
          "min": "0",
          "nan_count": 0,
          "unique_count": 1
         }
        },
        {
         "dtype": "int64",
         "name": "delivery",
         "stats": {
          "histogram": [
           {
            "bin_end": -0.4,
            "bin_start": -0.5,
            "count": 0
           },
           {
            "bin_end": -0.3,
            "bin_start": -0.4,
            "count": 0
           },
           {
            "bin_end": -0.19999999999999996,
            "bin_start": -0.3,
            "count": 0
           },
           {
            "bin_end": -0.09999999999999998,
            "bin_start": -0.19999999999999996,
            "count": 0
           },
           {
            "bin_end": 0,
            "bin_start": -0.09999999999999998,
            "count": 0
           },
           {
            "bin_end": 0.10000000000000009,
            "bin_start": 0,
            "count": 5
           },
           {
            "bin_end": 0.20000000000000007,
            "bin_start": 0.10000000000000009,
            "count": 0
           },
           {
            "bin_end": 0.30000000000000004,
            "bin_start": 0.20000000000000007,
            "count": 0
           },
           {
            "bin_end": 0.4,
            "bin_start": 0.30000000000000004,
            "count": 0
           },
           {
            "bin_end": 0.5,
            "bin_start": 0.4,
            "count": 0
           }
          ],
          "max": "0",
          "min": "0",
          "nan_count": 0,
          "unique_count": 1
         }
        },
        {
         "dtype": "int64",
         "name": "coffee_shop",
         "stats": {
          "histogram": [
           {
            "bin_end": -0.4,
            "bin_start": -0.5,
            "count": 0
           },
           {
            "bin_end": -0.3,
            "bin_start": -0.4,
            "count": 0
           },
           {
            "bin_end": -0.19999999999999996,
            "bin_start": -0.3,
            "count": 0
           },
           {
            "bin_end": -0.09999999999999998,
            "bin_start": -0.19999999999999996,
            "count": 0
           },
           {
            "bin_end": 0,
            "bin_start": -0.09999999999999998,
            "count": 0
           },
           {
            "bin_end": 0.10000000000000009,
            "bin_start": 0,
            "count": 5
           },
           {
            "bin_end": 0.20000000000000007,
            "bin_start": 0.10000000000000009,
            "count": 0
           },
           {
            "bin_end": 0.30000000000000004,
            "bin_start": 0.20000000000000007,
            "count": 0
           },
           {
            "bin_end": 0.4,
            "bin_start": 0.30000000000000004,
            "count": 0
           },
           {
            "bin_end": 0.5,
            "bin_start": 0.4,
            "count": 0
           }
          ],
          "max": "0",
          "min": "0",
          "nan_count": 0,
          "unique_count": 1
         }
        },
        {
         "dtype": "int64",
         "name": "call_button",
         "stats": {
          "histogram": [
           {
            "bin_end": -0.4,
            "bin_start": -0.5,
            "count": 0
           },
           {
            "bin_end": -0.3,
            "bin_start": -0.4,
            "count": 0
           },
           {
            "bin_end": -0.19999999999999996,
            "bin_start": -0.3,
            "count": 0
           },
           {
            "bin_end": -0.09999999999999998,
            "bin_start": -0.19999999999999996,
            "count": 0
           },
           {
            "bin_end": 0,
            "bin_start": -0.09999999999999998,
            "count": 0
           },
           {
            "bin_end": 0.10000000000000009,
            "bin_start": 0,
            "count": 5
           },
           {
            "bin_end": 0.20000000000000007,
            "bin_start": 0.10000000000000009,
            "count": 0
           },
           {
            "bin_end": 0.30000000000000004,
            "bin_start": 0.20000000000000007,
            "count": 0
           },
           {
            "bin_end": 0.4,
            "bin_start": 0.30000000000000004,
            "count": 0
           },
           {
            "bin_end": 0.5,
            "bin_start": 0.4,
            "count": 0
           }
          ],
          "max": "0",
          "min": "0",
          "nan_count": 0,
          "unique_count": 1
         }
        },
        {
         "dtype": "int64",
         "name": "wheelchair_accessible",
         "stats": {
          "histogram": [
           {
            "bin_end": -0.4,
            "bin_start": -0.5,
            "count": 0
           },
           {
            "bin_end": -0.3,
            "bin_start": -0.4,
            "count": 0
           },
           {
            "bin_end": -0.19999999999999996,
            "bin_start": -0.3,
            "count": 0
           },
           {
            "bin_end": -0.09999999999999998,
            "bin_start": -0.19999999999999996,
            "count": 0
           },
           {
            "bin_end": 0,
            "bin_start": -0.09999999999999998,
            "count": 0
           },
           {
            "bin_end": 0.10000000000000009,
            "bin_start": 0,
            "count": 5
           },
           {
            "bin_end": 0.20000000000000007,
            "bin_start": 0.10000000000000009,
            "count": 0
           },
           {
            "bin_end": 0.30000000000000004,
            "bin_start": 0.20000000000000007,
            "count": 0
           },
           {
            "bin_end": 0.4,
            "bin_start": 0.30000000000000004,
            "count": 0
           },
           {
            "bin_end": 0.5,
            "bin_start": 0.4,
            "count": 0
           }
          ],
          "max": "0",
          "min": "0",
          "nan_count": 0,
          "unique_count": 1
         }
        },
        {
         "dtype": "int64",
         "name": "table_games",
         "stats": {
          "histogram": [
           {
            "bin_end": -0.4,
            "bin_start": -0.5,
            "count": 0
           },
           {
            "bin_end": -0.3,
            "bin_start": -0.4,
            "count": 0
           },
           {
            "bin_end": -0.19999999999999996,
            "bin_start": -0.3,
            "count": 0
           },
           {
            "bin_end": -0.09999999999999998,
            "bin_start": -0.19999999999999996,
            "count": 0
           },
           {
            "bin_end": 0,
            "bin_start": -0.09999999999999998,
            "count": 0
           },
           {
            "bin_end": 0.10000000000000009,
            "bin_start": 0,
            "count": 5
           },
           {
            "bin_end": 0.20000000000000007,
            "bin_start": 0.10000000000000009,
            "count": 0
           },
           {
            "bin_end": 0.30000000000000004,
            "bin_start": 0.20000000000000007,
            "count": 0
           },
           {
            "bin_end": 0.4,
            "bin_start": 0.30000000000000004,
            "count": 0
           },
           {
            "bin_end": 0.5,
            "bin_start": 0.4,
            "count": 0
           }
          ],
          "max": "0",
          "min": "0",
          "nan_count": 0,
          "unique_count": 1
         }
        },
        {
         "dtype": "int64",
         "name": "vinotheque",
         "stats": {
          "histogram": [
           {
            "bin_end": -0.4,
            "bin_start": -0.5,
            "count": 0
           },
           {
            "bin_end": -0.3,
            "bin_start": -0.4,
            "count": 0
           },
           {
            "bin_end": -0.19999999999999996,
            "bin_start": -0.3,
            "count": 0
           },
           {
            "bin_end": -0.09999999999999998,
            "bin_start": -0.19999999999999996,
            "count": 0
           },
           {
            "bin_end": 0,
            "bin_start": -0.09999999999999998,
            "count": 0
           },
           {
            "bin_end": 0.10000000000000009,
            "bin_start": 0,
            "count": 5
           },
           {
            "bin_end": 0.20000000000000007,
            "bin_start": 0.10000000000000009,
            "count": 0
           },
           {
            "bin_end": 0.30000000000000004,
            "bin_start": 0.20000000000000007,
            "count": 0
           },
           {
            "bin_end": 0.4,
            "bin_start": 0.30000000000000004,
            "count": 0
           },
           {
            "bin_end": 0.5,
            "bin_start": 0.4,
            "count": 0
           }
          ],
          "max": "0",
          "min": "0",
          "nan_count": 0,
          "unique_count": 1
         }
        },
        {
         "dtype": "int64",
         "name": "cakes_for_different_occasions",
         "stats": {
          "histogram": [
           {
            "bin_end": -0.4,
            "bin_start": -0.5,
            "count": 0
           },
           {
            "bin_end": -0.3,
            "bin_start": -0.4,
            "count": 0
           },
           {
            "bin_end": -0.19999999999999996,
            "bin_start": -0.3,
            "count": 0
           },
           {
            "bin_end": -0.09999999999999998,
            "bin_start": -0.19999999999999996,
            "count": 0
           },
           {
            "bin_end": 0,
            "bin_start": -0.09999999999999998,
            "count": 0
           },
           {
            "bin_end": 0.10000000000000009,
            "bin_start": 0,
            "count": 5
           },
           {
            "bin_end": 0.20000000000000007,
            "bin_start": 0.10000000000000009,
            "count": 0
           },
           {
            "bin_end": 0.30000000000000004,
            "bin_start": 0.20000000000000007,
            "count": 0
           },
           {
            "bin_end": 0.4,
            "bin_start": 0.30000000000000004,
            "count": 0
           },
           {
            "bin_end": 0.5,
            "bin_start": 0.4,
            "count": 0
           }
          ],
          "max": "0",
          "min": "0",
          "nan_count": 0,
          "unique_count": 1
         }
        },
        {
         "dtype": "int64",
         "name": "accepted_credit_cards",
         "stats": {
          "histogram": [
           {
            "bin_end": -0.4,
            "bin_start": -0.5,
            "count": 0
           },
           {
            "bin_end": -0.3,
            "bin_start": -0.4,
            "count": 0
           },
           {
            "bin_end": -0.19999999999999996,
            "bin_start": -0.3,
            "count": 0
           },
           {
            "bin_end": -0.09999999999999998,
            "bin_start": -0.19999999999999996,
            "count": 0
           },
           {
            "bin_end": 0,
            "bin_start": -0.09999999999999998,
            "count": 0
           },
           {
            "bin_end": 0.10000000000000009,
            "bin_start": 0,
            "count": 5
           },
           {
            "bin_end": 0.20000000000000007,
            "bin_start": 0.10000000000000009,
            "count": 0
           },
           {
            "bin_end": 0.30000000000000004,
            "bin_start": 0.20000000000000007,
            "count": 0
           },
           {
            "bin_end": 0.4,
            "bin_start": 0.30000000000000004,
            "count": 0
           },
           {
            "bin_end": 0.5,
            "bin_start": 0.4,
            "count": 0
           }
          ],
          "max": "0",
          "min": "0",
          "nan_count": 0,
          "unique_count": 1
         }
        },
        {
         "dtype": "int64",
         "name": "kalyan",
         "stats": {
          "histogram": [
           {
            "bin_end": -0.4,
            "bin_start": -0.5,
            "count": 0
           },
           {
            "bin_end": -0.3,
            "bin_start": -0.4,
            "count": 0
           },
           {
            "bin_end": -0.19999999999999996,
            "bin_start": -0.3,
            "count": 0
           },
           {
            "bin_end": -0.09999999999999998,
            "bin_start": -0.19999999999999996,
            "count": 0
           },
           {
            "bin_end": 0,
            "bin_start": -0.09999999999999998,
            "count": 0
           },
           {
            "bin_end": 0.10000000000000009,
            "bin_start": 0,
            "count": 5
           },
           {
            "bin_end": 0.20000000000000007,
            "bin_start": 0.10000000000000009,
            "count": 0
           },
           {
            "bin_end": 0.30000000000000004,
            "bin_start": 0.20000000000000007,
            "count": 0
           },
           {
            "bin_end": 0.4,
            "bin_start": 0.30000000000000004,
            "count": 0
           },
           {
            "bin_end": 0.5,
            "bin_start": 0.4,
            "count": 0
           }
          ],
          "max": "0",
          "min": "0",
          "nan_count": 0,
          "unique_count": 1
         }
        },
        {
         "dtype": "int64",
         "name": "teahouse",
         "stats": {
          "histogram": [
           {
            "bin_end": -0.4,
            "bin_start": -0.5,
            "count": 0
           },
           {
            "bin_end": -0.3,
            "bin_start": -0.4,
            "count": 0
           },
           {
            "bin_end": -0.19999999999999996,
            "bin_start": -0.3,
            "count": 0
           },
           {
            "bin_end": -0.09999999999999998,
            "bin_start": -0.19999999999999996,
            "count": 0
           },
           {
            "bin_end": 0,
            "bin_start": -0.09999999999999998,
            "count": 0
           },
           {
            "bin_end": 0.10000000000000009,
            "bin_start": 0,
            "count": 5
           },
           {
            "bin_end": 0.20000000000000007,
            "bin_start": 0.10000000000000009,
            "count": 0
           },
           {
            "bin_end": 0.30000000000000004,
            "bin_start": 0.20000000000000007,
            "count": 0
           },
           {
            "bin_end": 0.4,
            "bin_start": 0.30000000000000004,
            "count": 0
           },
           {
            "bin_end": 0.5,
            "bin_start": 0.4,
            "count": 0
           }
          ],
          "max": "0",
          "min": "0",
          "nan_count": 0,
          "unique_count": 1
         }
        },
        {
         "dtype": "int64",
         "name": "bread_from_tandoor",
         "stats": {
          "histogram": [
           {
            "bin_end": -0.4,
            "bin_start": -0.5,
            "count": 0
           },
           {
            "bin_end": -0.3,
            "bin_start": -0.4,
            "count": 0
           },
           {
            "bin_end": -0.19999999999999996,
            "bin_start": -0.3,
            "count": 0
           },
           {
            "bin_end": -0.09999999999999998,
            "bin_start": -0.19999999999999996,
            "count": 0
           },
           {
            "bin_end": 0,
            "bin_start": -0.09999999999999998,
            "count": 0
           },
           {
            "bin_end": 0.10000000000000009,
            "bin_start": 0,
            "count": 5
           },
           {
            "bin_end": 0.20000000000000007,
            "bin_start": 0.10000000000000009,
            "count": 0
           },
           {
            "bin_end": 0.30000000000000004,
            "bin_start": 0.20000000000000007,
            "count": 0
           },
           {
            "bin_end": 0.4,
            "bin_start": 0.30000000000000004,
            "count": 0
           },
           {
            "bin_end": 0.5,
            "bin_start": 0.4,
            "count": 0
           }
          ],
          "max": "0",
          "min": "0",
          "nan_count": 0,
          "unique_count": 1
         }
        },
        {
         "dtype": "int64",
         "name": "handmade_goods",
         "stats": {
          "histogram": [
           {
            "bin_end": -0.4,
            "bin_start": -0.5,
            "count": 0
           },
           {
            "bin_end": -0.3,
            "bin_start": -0.4,
            "count": 0
           },
           {
            "bin_end": -0.19999999999999996,
            "bin_start": -0.3,
            "count": 0
           },
           {
            "bin_end": -0.09999999999999998,
            "bin_start": -0.19999999999999996,
            "count": 0
           },
           {
            "bin_end": 0,
            "bin_start": -0.09999999999999998,
            "count": 0
           },
           {
            "bin_end": 0.10000000000000009,
            "bin_start": 0,
            "count": 5
           },
           {
            "bin_end": 0.20000000000000007,
            "bin_start": 0.10000000000000009,
            "count": 0
           },
           {
            "bin_end": 0.30000000000000004,
            "bin_start": 0.20000000000000007,
            "count": 0
           },
           {
            "bin_end": 0.4,
            "bin_start": 0.30000000000000004,
            "count": 0
           },
           {
            "bin_end": 0.5,
            "bin_start": 0.4,
            "count": 0
           }
          ],
          "max": "0",
          "min": "0",
          "nan_count": 0,
          "unique_count": 1
         }
        },
        {
         "dtype": "int64",
         "name": "_deepnote_index_column"
        }
       ],
       "row_count": 5,
       "rows": [
        {
         "_deepnote_index_column": "0",
         "accepted_credit_cards": "0",
         "air_conditioning": "0",
         "around_the_clock_work1": "0",
         "automatic_door": "0",
         "average_bill": "500.0",
         "billiards": "0",
         "bread_from_tandoor": "0",
         "breakfast": "1",
         "business_lunch": "1",
         "cafe": "0",
         "cakes_for_different_occasions": "0",
         "call_button": "0",
         "car_park": "0",
         "chillout": "0",
         "closed_for_quarantine": "1",
         "coffee_shop": "0",
         "coffee_to_go": "1",
         "craft_beer": "0",
         "dancefloor": "0",
         "delivery": "0",
         "dress_code": "0",
         "elevator": "0",
         "elevator_wheelchair_accessible": "0",
         "face_control": "0",
         "farm_products": "0",
         "food_court1": "0",
         "food_delivery": "1",
         "food_product_delivery": "0",
         "free_delivery": "0",
         "gift_certificate": "0",
         "hall_capacity": "0",
         "handmade_goods": "0",
         "has_bar": "0",
         "has_restaurant": "0",
         "internet access": "0",
         "kalyan": "0",
         "karaoke": "0",
         "minimum_order": "0",
         "music": "0",
         "online_takeaway": "0",
         "org_city": "msk",
         "org_id": "7184895086928047809",
         "organic_food": "0",
         "parking_disabled": "0",
         "payment_by_credit_card": "1",
         "pets": "0",
         "pickup": "0",
         "privilege_tickets": "0",
         "projector": "0",
         "promotions": "0",
         "ramp": "0",
         "rating": "2.0",
         "rating_org": "4.038687973086628",
         "rubrics": "Быстрое питание",
         "self_service_kiosks": "0",
         "show_program": "0",
         "special_menu": "0",
         "sports_broadcasts": "0",
         "strip": "0",
         "summer_terrace": "1",
         "table_games": "0",
         "takeaway": "1",
         "teahouse": "0",
         "toilet_for_disabled": "0",
         "ts": "105",
         "user_city": "msk",
         "user_id": "16998268288908323644",
         "vinotheque": "0",
         "vip_zone": "0",
         "wheelchair_access": "0",
         "wheelchair_accessible": "0",
         "wi_fi": "1"
        },
        {
         "_deepnote_index_column": "1",
         "accepted_credit_cards": "0",
         "air_conditioning": "0",
         "around_the_clock_work1": "0",
         "automatic_door": "0",
         "average_bill": "500.0",
         "billiards": "0",
         "bread_from_tandoor": "0",
         "breakfast": "1",
         "business_lunch": "1",
         "cafe": "0",
         "cakes_for_different_occasions": "0",
         "call_button": "0",
         "car_park": "0",
         "chillout": "0",
         "closed_for_quarantine": "1",
         "coffee_shop": "0",
         "coffee_to_go": "1",
         "craft_beer": "0",
         "dancefloor": "0",
         "delivery": "0",
         "dress_code": "0",
         "elevator": "0",
         "elevator_wheelchair_accessible": "0",
         "face_control": "0",
         "farm_products": "0",
         "food_court1": "0",
         "food_delivery": "1",
         "food_product_delivery": "0",
         "free_delivery": "0",
         "gift_certificate": "0",
         "hall_capacity": "0",
         "handmade_goods": "0",
         "has_bar": "0",
         "has_restaurant": "0",
         "internet access": "0",
         "kalyan": "0",
         "karaoke": "0",
         "minimum_order": "0",
         "music": "0",
         "online_takeaway": "0",
         "org_city": "msk",
         "org_id": "7184895086928047809",
         "organic_food": "0",
         "parking_disabled": "0",
         "payment_by_credit_card": "1",
         "pets": "0",
         "pickup": "0",
         "privilege_tickets": "0",
         "projector": "0",
         "promotions": "0",
         "ramp": "0",
         "rating": "1.0",
         "rating_org": "4.038687973086628",
         "rubrics": "Быстрое питание",
         "self_service_kiosks": "0",
         "show_program": "0",
         "special_menu": "0",
         "sports_broadcasts": "0",
         "strip": "0",
         "summer_terrace": "1",
         "table_games": "0",
         "takeaway": "1",
         "teahouse": "0",
         "toilet_for_disabled": "0",
         "ts": "1072",
         "user_city": "msk",
         "user_id": "12147440994693609441",
         "vinotheque": "0",
         "vip_zone": "0",
         "wheelchair_access": "0",
         "wheelchair_accessible": "0",
         "wi_fi": "1"
        },
        {
         "_deepnote_index_column": "2",
         "accepted_credit_cards": "0",
         "air_conditioning": "0",
         "around_the_clock_work1": "0",
         "automatic_door": "0",
         "average_bill": "500.0",
         "billiards": "0",
         "bread_from_tandoor": "0",
         "breakfast": "1",
         "business_lunch": "1",
         "cafe": "0",
         "cakes_for_different_occasions": "0",
         "call_button": "0",
         "car_park": "0",
         "chillout": "0",
         "closed_for_quarantine": "1",
         "coffee_shop": "0",
         "coffee_to_go": "1",
         "craft_beer": "0",
         "dancefloor": "0",
         "delivery": "0",
         "dress_code": "0",
         "elevator": "0",
         "elevator_wheelchair_accessible": "0",
         "face_control": "0",
         "farm_products": "0",
         "food_court1": "0",
         "food_delivery": "1",
         "food_product_delivery": "0",
         "free_delivery": "0",
         "gift_certificate": "0",
         "hall_capacity": "0",
         "handmade_goods": "0",
         "has_bar": "0",
         "has_restaurant": "0",
         "internet access": "0",
         "kalyan": "0",
         "karaoke": "0",
         "minimum_order": "0",
         "music": "0",
         "online_takeaway": "0",
         "org_city": "msk",
         "org_id": "7184895086928047809",
         "organic_food": "0",
         "parking_disabled": "0",
         "payment_by_credit_card": "1",
         "pets": "0",
         "pickup": "0",
         "privilege_tickets": "0",
         "projector": "0",
         "promotions": "0",
         "ramp": "0",
         "rating": "2.0",
         "rating_org": "4.038687973086628",
         "rubrics": "Быстрое питание",
         "self_service_kiosks": "0",
         "show_program": "0",
         "special_menu": "0",
         "sports_broadcasts": "0",
         "strip": "0",
         "summer_terrace": "1",
         "table_games": "0",
         "takeaway": "1",
         "teahouse": "0",
         "toilet_for_disabled": "0",
         "ts": "420",
         "user_city": "msk",
         "user_id": "10182924528690880798",
         "vinotheque": "0",
         "vip_zone": "0",
         "wheelchair_access": "0",
         "wheelchair_accessible": "0",
         "wi_fi": "1"
        },
        {
         "_deepnote_index_column": "3",
         "accepted_credit_cards": "0",
         "air_conditioning": "0",
         "around_the_clock_work1": "0",
         "automatic_door": "0",
         "average_bill": "500.0",
         "billiards": "0",
         "bread_from_tandoor": "0",
         "breakfast": "1",
         "business_lunch": "1",
         "cafe": "0",
         "cakes_for_different_occasions": "0",
         "call_button": "0",
         "car_park": "0",
         "chillout": "0",
         "closed_for_quarantine": "1",
         "coffee_shop": "0",
         "coffee_to_go": "1",
         "craft_beer": "0",
         "dancefloor": "0",
         "delivery": "0",
         "dress_code": "0",
         "elevator": "0",
         "elevator_wheelchair_accessible": "0",
         "face_control": "0",
         "farm_products": "0",
         "food_court1": "0",
         "food_delivery": "1",
         "food_product_delivery": "0",
         "free_delivery": "0",
         "gift_certificate": "0",
         "hall_capacity": "0",
         "handmade_goods": "0",
         "has_bar": "0",
         "has_restaurant": "0",
         "internet access": "0",
         "kalyan": "0",
         "karaoke": "0",
         "minimum_order": "0",
         "music": "0",
         "online_takeaway": "0",
         "org_city": "msk",
         "org_id": "7184895086928047809",
         "organic_food": "0",
         "parking_disabled": "0",
         "payment_by_credit_card": "1",
         "pets": "0",
         "pickup": "0",
         "privilege_tickets": "0",
         "projector": "0",
         "promotions": "0",
         "ramp": "0",
         "rating": "3.0",
         "rating_org": "4.038687973086628",
         "rubrics": "Быстрое питание",
         "self_service_kiosks": "0",
         "show_program": "0",
         "special_menu": "0",
         "sports_broadcasts": "0",
         "strip": "0",
         "summer_terrace": "1",
         "table_games": "0",
         "takeaway": "1",
         "teahouse": "0",
         "toilet_for_disabled": "0",
         "ts": "643",
         "user_city": "msk",
         "user_id": "3333318221433111575",
         "vinotheque": "0",
         "vip_zone": "0",
         "wheelchair_access": "0",
         "wheelchair_accessible": "0",
         "wi_fi": "1"
        },
        {
         "_deepnote_index_column": "4",
         "accepted_credit_cards": "0",
         "air_conditioning": "0",
         "around_the_clock_work1": "0",
         "automatic_door": "0",
         "average_bill": "500.0",
         "billiards": "0",
         "bread_from_tandoor": "0",
         "breakfast": "1",
         "business_lunch": "1",
         "cafe": "0",
         "cakes_for_different_occasions": "0",
         "call_button": "0",
         "car_park": "0",
         "chillout": "0",
         "closed_for_quarantine": "1",
         "coffee_shop": "0",
         "coffee_to_go": "1",
         "craft_beer": "0",
         "dancefloor": "0",
         "delivery": "0",
         "dress_code": "0",
         "elevator": "0",
         "elevator_wheelchair_accessible": "0",
         "face_control": "0",
         "farm_products": "0",
         "food_court1": "0",
         "food_delivery": "1",
         "food_product_delivery": "0",
         "free_delivery": "0",
         "gift_certificate": "0",
         "hall_capacity": "0",
         "handmade_goods": "0",
         "has_bar": "0",
         "has_restaurant": "0",
         "internet access": "0",
         "kalyan": "0",
         "karaoke": "0",
         "minimum_order": "0",
         "music": "0",
         "online_takeaway": "0",
         "org_city": "msk",
         "org_id": "7184895086928047809",
         "organic_food": "0",
         "parking_disabled": "0",
         "payment_by_credit_card": "1",
         "pets": "0",
         "pickup": "0",
         "privilege_tickets": "0",
         "projector": "0",
         "promotions": "0",
         "ramp": "0",
         "rating": "5.0",
         "rating_org": "4.038687973086628",
         "rubrics": "Быстрое питание",
         "self_service_kiosks": "0",
         "show_program": "0",
         "special_menu": "0",
         "sports_broadcasts": "0",
         "strip": "0",
         "summer_terrace": "1",
         "table_games": "0",
         "takeaway": "1",
         "teahouse": "0",
         "toilet_for_disabled": "0",
         "ts": "701",
         "user_city": "msk",
         "user_id": "6208487353916435376",
         "vinotheque": "0",
         "vip_zone": "0",
         "wheelchair_access": "0",
         "wheelchair_accessible": "0",
         "wi_fi": "1"
        }
       ]
      },
      "text/html": [
       "<div>\n",
       "<style scoped>\n",
       "    .dataframe tbody tr th:only-of-type {\n",
       "        vertical-align: middle;\n",
       "    }\n",
       "\n",
       "    .dataframe tbody tr th {\n",
       "        vertical-align: top;\n",
       "    }\n",
       "\n",
       "    .dataframe thead th {\n",
       "        text-align: right;\n",
       "    }\n",
       "</style>\n",
       "<table border=\"1\" class=\"dataframe\">\n",
       "  <thead>\n",
       "    <tr style=\"text-align: right;\">\n",
       "      <th></th>\n",
       "      <th>user_id</th>\n",
       "      <th>org_id</th>\n",
       "      <th>rating</th>\n",
       "      <th>ts</th>\n",
       "      <th>user_city</th>\n",
       "      <th>org_city</th>\n",
       "      <th>average_bill</th>\n",
       "      <th>rating_org</th>\n",
       "      <th>rubrics</th>\n",
       "      <th>food_delivery</th>\n",
       "      <th>...</th>\n",
       "      <th>call_button</th>\n",
       "      <th>wheelchair_accessible</th>\n",
       "      <th>table_games</th>\n",
       "      <th>vinotheque</th>\n",
       "      <th>cakes_for_different_occasions</th>\n",
       "      <th>accepted_credit_cards</th>\n",
       "      <th>kalyan</th>\n",
       "      <th>teahouse</th>\n",
       "      <th>bread_from_tandoor</th>\n",
       "      <th>handmade_goods</th>\n",
       "    </tr>\n",
       "  </thead>\n",
       "  <tbody>\n",
       "    <tr>\n",
       "      <th>0</th>\n",
       "      <td>16998268288908323644</td>\n",
       "      <td>7184895086928047809</td>\n",
       "      <td>2.0</td>\n",
       "      <td>105</td>\n",
       "      <td>msk</td>\n",
       "      <td>msk</td>\n",
       "      <td>500.0</td>\n",
       "      <td>4.038688</td>\n",
       "      <td>Быстрое питание</td>\n",
       "      <td>1</td>\n",
       "      <td>...</td>\n",
       "      <td>0</td>\n",
       "      <td>0</td>\n",
       "      <td>0</td>\n",
       "      <td>0</td>\n",
       "      <td>0</td>\n",
       "      <td>0</td>\n",
       "      <td>0</td>\n",
       "      <td>0</td>\n",
       "      <td>0</td>\n",
       "      <td>0</td>\n",
       "    </tr>\n",
       "    <tr>\n",
       "      <th>1</th>\n",
       "      <td>12147440994693609441</td>\n",
       "      <td>7184895086928047809</td>\n",
       "      <td>1.0</td>\n",
       "      <td>1072</td>\n",
       "      <td>msk</td>\n",
       "      <td>msk</td>\n",
       "      <td>500.0</td>\n",
       "      <td>4.038688</td>\n",
       "      <td>Быстрое питание</td>\n",
       "      <td>1</td>\n",
       "      <td>...</td>\n",
       "      <td>0</td>\n",
       "      <td>0</td>\n",
       "      <td>0</td>\n",
       "      <td>0</td>\n",
       "      <td>0</td>\n",
       "      <td>0</td>\n",
       "      <td>0</td>\n",
       "      <td>0</td>\n",
       "      <td>0</td>\n",
       "      <td>0</td>\n",
       "    </tr>\n",
       "    <tr>\n",
       "      <th>2</th>\n",
       "      <td>10182924528690880798</td>\n",
       "      <td>7184895086928047809</td>\n",
       "      <td>2.0</td>\n",
       "      <td>420</td>\n",
       "      <td>msk</td>\n",
       "      <td>msk</td>\n",
       "      <td>500.0</td>\n",
       "      <td>4.038688</td>\n",
       "      <td>Быстрое питание</td>\n",
       "      <td>1</td>\n",
       "      <td>...</td>\n",
       "      <td>0</td>\n",
       "      <td>0</td>\n",
       "      <td>0</td>\n",
       "      <td>0</td>\n",
       "      <td>0</td>\n",
       "      <td>0</td>\n",
       "      <td>0</td>\n",
       "      <td>0</td>\n",
       "      <td>0</td>\n",
       "      <td>0</td>\n",
       "    </tr>\n",
       "    <tr>\n",
       "      <th>3</th>\n",
       "      <td>3333318221433111575</td>\n",
       "      <td>7184895086928047809</td>\n",
       "      <td>3.0</td>\n",
       "      <td>643</td>\n",
       "      <td>msk</td>\n",
       "      <td>msk</td>\n",
       "      <td>500.0</td>\n",
       "      <td>4.038688</td>\n",
       "      <td>Быстрое питание</td>\n",
       "      <td>1</td>\n",
       "      <td>...</td>\n",
       "      <td>0</td>\n",
       "      <td>0</td>\n",
       "      <td>0</td>\n",
       "      <td>0</td>\n",
       "      <td>0</td>\n",
       "      <td>0</td>\n",
       "      <td>0</td>\n",
       "      <td>0</td>\n",
       "      <td>0</td>\n",
       "      <td>0</td>\n",
       "    </tr>\n",
       "    <tr>\n",
       "      <th>4</th>\n",
       "      <td>6208487353916435376</td>\n",
       "      <td>7184895086928047809</td>\n",
       "      <td>5.0</td>\n",
       "      <td>701</td>\n",
       "      <td>msk</td>\n",
       "      <td>msk</td>\n",
       "      <td>500.0</td>\n",
       "      <td>4.038688</td>\n",
       "      <td>Быстрое питание</td>\n",
       "      <td>1</td>\n",
       "      <td>...</td>\n",
       "      <td>0</td>\n",
       "      <td>0</td>\n",
       "      <td>0</td>\n",
       "      <td>0</td>\n",
       "      <td>0</td>\n",
       "      <td>0</td>\n",
       "      <td>0</td>\n",
       "      <td>0</td>\n",
       "      <td>0</td>\n",
       "      <td>0</td>\n",
       "    </tr>\n",
       "  </tbody>\n",
       "</table>\n",
       "<p>5 rows × 72 columns</p>\n",
       "</div>"
      ],
      "text/plain": [
       "                user_id               org_id  rating    ts user_city org_city  \\\n",
       "0  16998268288908323644  7184895086928047809     2.0   105       msk      msk   \n",
       "1  12147440994693609441  7184895086928047809     1.0  1072       msk      msk   \n",
       "2  10182924528690880798  7184895086928047809     2.0   420       msk      msk   \n",
       "3   3333318221433111575  7184895086928047809     3.0   643       msk      msk   \n",
       "4   6208487353916435376  7184895086928047809     5.0   701       msk      msk   \n",
       "\n",
       "   average_bill  rating_org          rubrics  food_delivery  ...  call_button  \\\n",
       "0         500.0    4.038688  Быстрое питание              1  ...            0   \n",
       "1         500.0    4.038688  Быстрое питание              1  ...            0   \n",
       "2         500.0    4.038688  Быстрое питание              1  ...            0   \n",
       "3         500.0    4.038688  Быстрое питание              1  ...            0   \n",
       "4         500.0    4.038688  Быстрое питание              1  ...            0   \n",
       "\n",
       "   wheelchair_accessible  table_games  vinotheque  \\\n",
       "0                      0            0           0   \n",
       "1                      0            0           0   \n",
       "2                      0            0           0   \n",
       "3                      0            0           0   \n",
       "4                      0            0           0   \n",
       "\n",
       "   cakes_for_different_occasions  accepted_credit_cards  kalyan  teahouse  \\\n",
       "0                              0                      0       0         0   \n",
       "1                              0                      0       0         0   \n",
       "2                              0                      0       0         0   \n",
       "3                              0                      0       0         0   \n",
       "4                              0                      0       0         0   \n",
       "\n",
       "   bread_from_tandoor  handmade_goods  \n",
       "0                   0               0  \n",
       "1                   0               0  \n",
       "2                   0               0  \n",
       "3                   0               0  \n",
       "4                   0               0  \n",
       "\n",
       "[5 rows x 72 columns]"
      ]
     },
     "execution_count": 1,
     "metadata": {},
     "output_type": "execute_result"
    }
   ],
   "source": [
    "import pandas as pd\n",
    "import matplotlib.pyplot as plt\n",
    "import seaborn as sns\n",
    "import numpy as np\n",
    "\n",
    "UPD_organisations_rating = pd.read_csv('UPD_organisations_rating.csv')\n",
    "UPD_organisations_rating.head(5)"
   ]
  },
  {
   "cell_type": "markdown",
   "metadata": {
    "cell_id": "94e7392b7864483ebbd6e4da629b3a02",
    "deepnote_cell_type": "markdown"
   },
   "source": [
    "#### Замена типов данных"
   ]
  },
  {
   "cell_type": "code",
   "execution_count": null,
   "metadata": {
    "cell_id": "193c43bdaa7444bd9adbfa0d41eb03cb",
    "deepnote_cell_type": "code",
    "deepnote_to_be_reexecuted": false,
    "execution_millis": 8,
    "execution_start": 1684350012729,
    "source_hash": "a1eca2db"
   },
   "outputs": [
    {
     "data": {
      "text/plain": [
       "user_id                     object\n",
       "org_id                      object\n",
       "rating                     float64\n",
       "ts                           int64\n",
       "user_city                 category\n",
       "org_city                  category\n",
       "average_bill               float64\n",
       "rating_org                 float64\n",
       "rubrics                   category\n",
       "food_delivery                int64\n",
       "breakfast                    int64\n",
       "takeaway                     int64\n",
       "summer_terrace               int64\n",
       "wi_fi                        int64\n",
       "business_lunch               int64\n",
       "payment_by_credit_card       int64\n",
       "coffee_to_go                 int64\n",
       "closed_for_quarantine        int64\n",
       "online_takeaway              int64\n",
       "karaoke                      int64\n",
       "dtype: object"
      ]
     },
     "execution_count": 2,
     "metadata": {},
     "output_type": "execute_result"
    }
   ],
   "source": [
    "UPD_organisations_rating.dtypes\n",
    "UPD_organisations_rating['user_id']=UPD_organisations_rating['user_id'].astype('object')\n",
    "UPD_organisations_rating['org_id']=UPD_organisations_rating['org_id'].astype('object')\n",
    "UPD_organisations_rating['user_city']=UPD_organisations_rating['user_city'].astype('category')\n",
    "UPD_organisations_rating['org_city']=UPD_organisations_rating['org_city'].astype('category')\n",
    "UPD_organisations_rating['rubrics']=UPD_organisations_rating['rubrics'].astype('category')\n",
    "UPD_organisations_rating.dtypes.head(20)"
   ]
  },
  {
   "cell_type": "markdown",
   "metadata": {
    "cell_id": "2f543a7d4b774835982d445bb4c58642",
    "deepnote_cell_type": "markdown"
   },
   "source": [
    "Cписок колонок"
   ]
  },
  {
   "cell_type": "code",
   "execution_count": null,
   "metadata": {
    "cell_id": "430d4e9fc6274e0e8e25c7c8c985a63a",
    "deepnote_cell_type": "code",
    "deepnote_to_be_reexecuted": false,
    "execution_millis": 4,
    "execution_start": 1684350012774,
    "source_hash": "a09eec59"
   },
   "outputs": [
    {
     "data": {
      "text/plain": [
       "Index(['user_id', 'org_id', 'rating', 'ts', 'user_city', 'org_city',\n",
       "       'average_bill', 'rating_org', 'rubrics', 'food_delivery', 'breakfast',\n",
       "       'takeaway', 'summer_terrace', 'wi_fi', 'business_lunch',\n",
       "       'payment_by_credit_card', 'coffee_to_go', 'closed_for_quarantine',\n",
       "       'online_takeaway', 'karaoke', 'special_menu', 'sports_broadcasts',\n",
       "       'food_court1', 'craft_beer', 'projector', 'gift_certificate',\n",
       "       'wheelchair_access', 'automatic_door', 'food_product_delivery',\n",
       "       'car_park', 'parking_disabled', 'toilet_for_disabled', 'promotions',\n",
       "       'cafe', 'minimum_order', 'free_delivery', 'self_service_kiosks',\n",
       "       'has_restaurant', 'air_conditioning', 'pets', 'elevator', 'has_bar',\n",
       "       'internet access', 'privilege_tickets', 'organic_food', 'vip_zone',\n",
       "       'hall_capacity', 'face_control', 'show_program', 'music', 'chillout',\n",
       "       'dancefloor', 'dress_code', 'billiards', 'strip',\n",
       "       'elevator_wheelchair_accessible', 'ramp', 'around_the_clock_work1',\n",
       "       'pickup', 'farm_products', 'delivery', 'coffee_shop', 'call_button',\n",
       "       'wheelchair_accessible', 'table_games', 'vinotheque',\n",
       "       'cakes_for_different_occasions', 'accepted_credit_cards', 'kalyan',\n",
       "       'teahouse', 'bread_from_tandoor', 'handmade_goods'],\n",
       "      dtype='object')"
      ]
     },
     "execution_count": 3,
     "metadata": {},
     "output_type": "execute_result"
    }
   ],
   "source": [
    "UPD_organisations_rating.columns"
   ]
  },
  {
   "cell_type": "code",
   "execution_count": null,
   "metadata": {
    "cell_id": "476a16ee05c7415886ff96d844164473",
    "deepnote_cell_type": "code",
    "deepnote_to_be_reexecuted": false,
    "execution_millis": 2,
    "execution_start": 1684350012817,
    "source_hash": "23c35f7a"
   },
   "outputs": [
    {
     "data": {
      "text/plain": [
       "payment_by_credit_card  accepted_credit_cards\n",
       "0                       0                        11208\n",
       "1                       0                        92968\n",
       "                        1                          102\n",
       "Name: org_id, dtype: int64"
      ]
     },
     "execution_count": 4,
     "metadata": {},
     "output_type": "execute_result"
    }
   ],
   "source": [
    "UPD_organisations_rating.groupby(['payment_by_credit_card', 'accepted_credit_cards'])['org_id'].count()"
   ]
  },
  {
   "cell_type": "markdown",
   "metadata": {
    "cell_id": "3aeb41eb38894fd99e24966a206107b2",
    "deepnote_cell_type": "markdown"
   },
   "source": [
    "Удаляем лишние, сомнительные переменные. accepted_credit_cards - бесполезная переменная, тк встречается всего 100 раз на 100 тыс.\n",
    "Некоторые категории, которые выкачались с Яндекс карт: cafe, restaurant - тоже не нужны, тк у нас уже есть rubrics"
   ]
  },
  {
   "cell_type": "code",
   "execution_count": null,
   "metadata": {
    "cell_id": "1cbec03f96a54cdfb7c6e43921bfcd2f",
    "deepnote_cell_type": "code",
    "deepnote_to_be_reexecuted": false,
    "execution_millis": 115,
    "execution_start": 1684350012820,
    "source_hash": "527518f2"
   },
   "outputs": [],
   "source": [
    "UPD_organisations_rating.drop('accepted_credit_cards', inplace=True, axis=1)\n",
    "UPD_organisations_rating.drop('rating_org', inplace=True, axis=1)\n",
    "UPD_organisations_rating.drop('cafe', inplace=True, axis=1)\n",
    "UPD_organisations_rating.drop('has_restaurant', inplace=True, axis=1)"
   ]
  },
  {
   "cell_type": "code",
   "execution_count": null,
   "metadata": {
    "cell_id": "3b1c2b5ce9d544f0ac10bfb40ab77631",
    "deepnote_cell_type": "code",
    "deepnote_to_be_reexecuted": false,
    "execution_millis": 11,
    "execution_start": 1684350012962,
    "source_hash": "a09eec59"
   },
   "outputs": [
    {
     "data": {
      "text/plain": [
       "Index(['user_id', 'org_id', 'rating', 'ts', 'user_city', 'org_city',\n",
       "       'average_bill', 'rubrics', 'food_delivery', 'breakfast', 'takeaway',\n",
       "       'summer_terrace', 'wi_fi', 'business_lunch', 'payment_by_credit_card',\n",
       "       'coffee_to_go', 'closed_for_quarantine', 'online_takeaway', 'karaoke',\n",
       "       'special_menu', 'sports_broadcasts', 'food_court1', 'craft_beer',\n",
       "       'projector', 'gift_certificate', 'wheelchair_access', 'automatic_door',\n",
       "       'food_product_delivery', 'car_park', 'parking_disabled',\n",
       "       'toilet_for_disabled', 'promotions', 'minimum_order', 'free_delivery',\n",
       "       'self_service_kiosks', 'air_conditioning', 'pets', 'elevator',\n",
       "       'has_bar', 'internet access', 'privilege_tickets', 'organic_food',\n",
       "       'vip_zone', 'hall_capacity', 'face_control', 'show_program', 'music',\n",
       "       'chillout', 'dancefloor', 'dress_code', 'billiards', 'strip',\n",
       "       'elevator_wheelchair_accessible', 'ramp', 'around_the_clock_work1',\n",
       "       'pickup', 'farm_products', 'delivery', 'coffee_shop', 'call_button',\n",
       "       'wheelchair_accessible', 'table_games', 'vinotheque',\n",
       "       'cakes_for_different_occasions', 'kalyan', 'teahouse',\n",
       "       'bread_from_tandoor', 'handmade_goods'],\n",
       "      dtype='object')"
      ]
     },
     "execution_count": 6,
     "metadata": {},
     "output_type": "execute_result"
    }
   ],
   "source": [
    "UPD_organisations_rating.columns"
   ]
  },
  {
   "cell_type": "markdown",
   "metadata": {
    "cell_id": "b1b05d7dd7004c1ca7ffe252cd7e1fa4",
    "deepnote_cell_type": "markdown"
   },
   "source": [
    "Переменные, которые наиболее коррелируют с рейтингом (по модулю)"
   ]
  },
  {
   "cell_type": "code",
   "execution_count": null,
   "metadata": {
    "cell_id": "24053a8b12924bf18d6cab2f4f502e75",
    "deepnote_cell_type": "code",
    "deepnote_to_be_reexecuted": false,
    "execution_millis": 1144,
    "execution_start": 1684350012987,
    "source_hash": "8fbaa0ce"
   },
   "outputs": [
    {
     "data": {
      "text/plain": [
       "toilet_for_disabled       0.040341\n",
       "payment_by_credit_card    0.038589\n",
       "parking_disabled          0.038471\n",
       "craft_beer                0.038304\n",
       "gift_certificate          0.037089\n",
       "automatic_door            0.036600\n",
       "wheelchair_access         0.035434\n",
       "sports_broadcasts         0.028462\n",
       "projector                 0.027374\n",
       "food_delivery             0.026846\n",
       "average_bill              0.023697\n",
       "karaoke                   0.023152\n",
       "privilege_tickets         0.023034\n",
       "self_service_kiosks       0.022776\n",
       "free_delivery             0.021567\n",
       "music                     0.021286\n",
       "car_park                  0.020704\n",
       "face_control              0.019594\n",
       "wi_fi                     0.019235\n",
       "vip_zone                  0.018640\n",
       "Name: rating, dtype: float64"
      ]
     },
     "execution_count": 7,
     "metadata": {},
     "output_type": "execute_result"
    }
   ],
   "source": [
    "abs(UPD_organisations_rating.corr()['rating'].sort_values(ascending=False)).sort_values(ascending=False).iloc[1:21]"
   ]
  },
  {
   "cell_type": "markdown",
   "metadata": {
    "cell_id": "cd1e708222bd45f7b39fc7f582728c87",
    "deepnote_cell_type": "text-cell-p",
    "formattedRanges": []
   },
   "source": [
    "Поиск и замена пустых значений"
   ]
  },
  {
   "cell_type": "code",
   "execution_count": null,
   "metadata": {
    "cell_id": "7ca67a7ac0f948ee96d55d1c589dd48c",
    "deepnote_cell_type": "code",
    "deepnote_to_be_reexecuted": false,
    "execution_millis": 3,
    "execution_start": 1684350014139,
    "source_hash": "f3e1889c"
   },
   "outputs": [
    {
     "data": {
      "text/plain": [
       "(104278, 68)"
      ]
     },
     "execution_count": 8,
     "metadata": {},
     "output_type": "execute_result"
    }
   ],
   "source": [
    "UPD_organisations_rating.shape"
   ]
  },
  {
   "cell_type": "code",
   "execution_count": null,
   "metadata": {
    "cell_id": "e9dc429c85f742afa9a36ad12d9e8d50",
    "deepnote_cell_type": "code",
    "deepnote_to_be_reexecuted": false,
    "execution_millis": 1,
    "execution_start": 1684350014198,
    "source_hash": "fca2c2a"
   },
   "outputs": [
    {
     "data": {
      "text/plain": [
       "average_bill           41278\n",
       "user_id                    0\n",
       "hall_capacity              0\n",
       "dress_code                 0\n",
       "dancefloor                 0\n",
       "                       ...  \n",
       "parking_disabled           0\n",
       "toilet_for_disabled        0\n",
       "promotions                 0\n",
       "minimum_order              0\n",
       "handmade_goods             0\n",
       "Length: 68, dtype: int64"
      ]
     },
     "execution_count": 9,
     "metadata": {},
     "output_type": "execute_result"
    }
   ],
   "source": [
    "UPD_organisations_rating.isnull().sum().sort_values(ascending=False)"
   ]
  },
  {
   "cell_type": "markdown",
   "metadata": {
    "cell_id": "2295fa4ae5f44f13ac36054507fd237b",
    "deepnote_cell_type": "text-cell-p",
    "formattedRanges": []
   },
   "source": [
    "В столбце average_bill 41 тыс пропущенных значений из 104 тыс. Поэтому удаляем строки с пропущенными значения из датасета. По другим столбцам пропусков нет"
   ]
  },
  {
   "cell_type": "code",
   "execution_count": null,
   "metadata": {
    "cell_id": "ee6dd976336544a4be3b74ba24bf0b2a",
    "deepnote_cell_type": "code",
    "deepnote_to_be_reexecuted": false,
    "execution_millis": 8,
    "execution_start": 1684350014241,
    "source_hash": "8d693bfc"
   },
   "outputs": [
    {
     "data": {
      "text/plain": [
       "(63000, 68)"
      ]
     },
     "execution_count": 10,
     "metadata": {},
     "output_type": "execute_result"
    }
   ],
   "source": [
    "UPD_organisations_rating = UPD_organisations_rating[UPD_organisations_rating['average_bill'].notnull()]\n",
    "UPD_organisations_rating.shape"
   ]
  },
  {
   "cell_type": "markdown",
   "metadata": {
    "cell_id": "5bff473b6d684cbc8be9ffacbe175851",
    "deepnote_cell_type": "text-cell-p",
    "formattedRanges": []
   },
   "source": [
    "Поиск дубликатов, удаление"
   ]
  },
  {
   "cell_type": "code",
   "execution_count": null,
   "metadata": {
    "cell_id": "8bef60edc8f544da97a1747408784465",
    "deepnote_cell_type": "code",
    "deepnote_to_be_reexecuted": false,
    "execution_millis": 65,
    "execution_start": 1684350014284,
    "source_hash": "26d90b51"
   },
   "outputs": [
    {
     "data": {
      "text/plain": [
       "31"
      ]
     },
     "execution_count": 11,
     "metadata": {},
     "output_type": "execute_result"
    }
   ],
   "source": [
    "UPD_organisations_rating.duplicated().sum() "
   ]
  },
  {
   "cell_type": "markdown",
   "metadata": {
    "cell_id": "1bd43576fd0745cfb69168696e92f5ac",
    "deepnote_cell_type": "text-cell-p",
    "formattedRanges": []
   },
   "source": [
    "Удаляем 31 строку дубликатов"
   ]
  },
  {
   "cell_type": "code",
   "execution_count": null,
   "metadata": {
    "cell_id": "3f63c7c6dae449dabe4cc691a1e18669",
    "deepnote_cell_type": "code",
    "deepnote_to_be_reexecuted": false,
    "execution_millis": 455,
    "execution_start": 1684350014408,
    "source_hash": "7d772ea1"
   },
   "outputs": [
    {
     "data": {
      "text/plain": [
       "(62969, 68)"
      ]
     },
     "execution_count": 12,
     "metadata": {},
     "output_type": "execute_result"
    }
   ],
   "source": [
    "UPD_organisations_rating.duplicated().sum() \n",
    "UPD_organisations_rating[UPD_organisations_rating.duplicated(keep=False)] # keep=False чтобы увидеть все задублированные\n",
    "UPD_organisations_rating.drop_duplicates(inplace=True)\n",
    "UPD_organisations_rating.shape"
   ]
  },
  {
   "cell_type": "markdown",
   "metadata": {
    "cell_id": "d3c76d511fa14f449ceac56694d93150",
    "deepnote_cell_type": "text-cell-p",
    "formattedRanges": []
   },
   "source": [
    "Поиск выбросов, удаление"
   ]
  },
  {
   "cell_type": "code",
   "execution_count": null,
   "metadata": {
    "cell_id": "195290467b2549f99dbc37bf13b41053",
    "deepnote_cell_type": "code",
    "deepnote_to_be_reexecuted": false,
    "execution_millis": 1145,
    "execution_start": 1684350014870,
    "source_hash": "43a9368e"
   },
   "outputs": [
    {
     "data": {
      "image/png": "[encoded data removed]",
      "text/plain": [
       "<Figure size 1500x700 with 1 Axes>"
      ]
     },
     "metadata": {
      "image/png": {
       "height": 602,
       "width": 1255
      }
     },
     "output_type": "display_data"
    }
   ],
   "source": [
    "fig = plt.figure(figsize=(15, 7))\n",
    "sns.histplot(data=UPD_organisations_rating, x='average_bill', bins = 100)\n",
    "plt.show()"
   ]
  },
  {
   "cell_type": "code",
   "execution_count": null,
   "metadata": {
    "cell_id": "982d541749474874972c8e106b5ea28f",
    "deepnote_cell_type": "code",
    "deepnote_to_be_reexecuted": false,
    "execution_millis": 14,
    "execution_start": 1684350016031,
    "source_hash": "3138585c"
   },
   "outputs": [
    {
     "data": {
      "text/plain": [
       "(155, 68)"
      ]
     },
     "execution_count": 14,
     "metadata": {},
     "output_type": "execute_result"
    }
   ],
   "source": [
    "UPD_organisations_rating[UPD_organisations_rating['average_bill']>10000].shape"
   ]
  },
  {
   "cell_type": "markdown",
   "metadata": {
    "cell_id": "b7ef74f8957a442eb9a5db85829dcaed",
    "deepnote_cell_type": "text-cell-p",
    "formattedRanges": []
   },
   "source": [
    "Удалим 155 наблюдений со средним чеком >10000, тк они являются выбросами"
   ]
  },
  {
   "cell_type": "markdown",
   "metadata": {
    "cell_id": "6426781b-35a4-43a1-b0df-808ce3167d22",
    "deepnote_cell_type": "text-cell-p",
    "formattedRanges": []
   },
   "source": [
    "Логарифмируем средний чек ('average_bill_log'), чтобы избежать неравномерности в данных"
   ]
  },
  {
   "cell_type": "code",
   "execution_count": null,
   "metadata": {
    "cell_id": "f7088ab610094164989253af2355cf1d",
    "deepnote_cell_type": "code",
    "deepnote_to_be_reexecuted": false,
    "execution_millis": 3,
    "execution_start": 1684350016121,
    "source_hash": "f3e1889c"
   },
   "outputs": [
    {
     "data": {
      "text/plain": [
       "(62969, 68)"
      ]
     },
     "execution_count": 15,
     "metadata": {},
     "output_type": "execute_result"
    }
   ],
   "source": [
    "UPD_organisations_rating.shape"
   ]
  },
  {
   "cell_type": "code",
   "execution_count": null,
   "metadata": {
    "cell_id": "0ce9761a27c94632a58dca5bae763c7b",
    "deepnote_cell_type": "code",
    "deepnote_to_be_reexecuted": false,
    "execution_millis": 2,
    "execution_start": 1684350016122,
    "source_hash": "64de682a"
   },
   "outputs": [
    {
     "data": {
      "text/plain": [
       "(0         0\n",
       " 1         0\n",
       " 2         0\n",
       " 3         0\n",
       " 4         0\n",
       "          ..\n",
       " 104250    0\n",
       " 104260    0\n",
       " 104270    0\n",
       " 104273    0\n",
       " 104276    1\n",
       " Name: karaoke, Length: 62969, dtype: int64,\n",
       " 34846)"
      ]
     },
     "execution_count": 16,
     "metadata": {},
     "output_type": "execute_result"
    }
   ],
   "source": [
    "UPD_organisations_rating['karaoke'], sum(UPD_organisations_rating['karaoke'])"
   ]
  },
  {
   "cell_type": "code",
   "execution_count": null,
   "metadata": {
    "cell_id": "3fb591926a75416dae21e38583a7ca67",
    "deepnote_cell_type": "code",
    "deepnote_to_be_reexecuted": false,
    "execution_millis": 1014,
    "execution_start": 1684350016164,
    "source_hash": "a16a4725"
   },
   "outputs": [
    {
     "data": {
      "image/png": "[encoded data removed]",
      "text/plain": [
       "<Figure size 1500x700 with 1 Axes>"
      ]
     },
     "metadata": {
      "image/png": {
       "height": 602,
       "width": 1255
      }
     },
     "output_type": "display_data"
    }
   ],
   "source": [
    "UPD_organisations_rating.insert(7, 'average_bill_log', np.log10(UPD_organisations_rating['average_bill']))\n",
    "\n",
    "fig = plt.figure(figsize=(15, 7))\n",
    "sns.histplot(data=UPD_organisations_rating, x='average_bill_log')\n",
    "plt.show()"
   ]
  },
  {
   "cell_type": "code",
   "execution_count": null,
   "metadata": {
    "cell_id": "bc783d5a52e846b7a4e611644e03d84f",
    "deepnote_cell_type": "code",
    "deepnote_to_be_reexecuted": false,
    "execution_millis": 31,
    "execution_start": 1684350017225,
    "source_hash": "28aaefdf"
   },
   "outputs": [
    {
     "data": {
      "text/plain": [
       "rubrics\n",
       "Бар безалкогольных напитков        2\n",
       "Кофе с собой                       2\n",
       "Спортбар                         181\n",
       "Столовая                         189\n",
       "Булочная, пекарня                214\n",
       "Кондитерская                     503\n",
       "Кальян-бар                       547\n",
       "Кофейня                          619\n",
       "Пиццерия                         870\n",
       "Суши-бар                         871\n",
       "Быстрое питание                  904\n",
       "Бар, паб                        5069\n",
       "Кафе                            8021\n",
       "Ресторан                       16854\n",
       "Name: karaoke, dtype: int64"
      ]
     },
     "execution_count": 18,
     "metadata": {},
     "output_type": "execute_result"
    }
   ],
   "source": [
    "UPD_organisations_rating.groupby(UPD_organisations_rating.rubrics)['karaoke'].apply(sum).sort_values()"
   ]
  },
  {
   "cell_type": "markdown",
   "metadata": {
    "cell_id": "9c433630eaf745a9a44d6da7f3ae2a80",
    "deepnote_cell_type": "text-cell-p",
    "formattedRanges": []
   },
   "source": [
    "Включим в анализ только места, где караоке действительно часто бывают - рестораны, кафе и бары/пабы"
   ]
  },
  {
   "cell_type": "code",
   "execution_count": null,
   "metadata": {
    "cell_id": "8b1cef8548304b969aa69a01c0d84241",
    "deepnote_cell_type": "code",
    "deepnote_to_be_reexecuted": false,
    "execution_millis": 30,
    "execution_start": 1684350017226,
    "source_hash": "d74c741d"
   },
   "outputs": [],
   "source": [
    "UPD_organisations_rating = UPD_organisations_rating[(UPD_organisations_rating.rubrics=='Ресторан')|(UPD_organisations_rating.rubrics=='Кафе')|(UPD_organisations_rating.rubrics=='Бар, паб')]"
   ]
  },
  {
   "cell_type": "code",
   "execution_count": null,
   "metadata": {
    "cell_id": "45cc472db5a94004b2ab8292be599dda",
    "deepnote_cell_type": "code",
    "deepnote_table_loading": false,
    "deepnote_table_state": {
     "filters": [],
     "pageIndex": 0,
     "pageSize": 10,
     "sortBy": []
    },
    "deepnote_to_be_reexecuted": false,
    "execution_millis": 369,
    "execution_start": 1684350017227,
    "source_hash": "ce0be039"
   },
   "outputs": [
    {
     "data": {
      "application/vnd.deepnote.dataframe.v3+json": {
       "column_count": 69,
       "columns": [
        {
         "dtype": "object",
         "name": "user_id",
         "stats": {
          "categories": [
           {
            "count": 11,
            "name": "16100492764037813474"
           },
           {
            "count": 7,
            "name": "2179068362030754346"
           },
           {
            "count": 47403,
            "name": "44450 others"
           }
          ],
          "nan_count": 0,
          "unique_count": 44452
         }
        },
        {
         "dtype": "object",
         "name": "org_id",
         "stats": {
          "categories": [
           {
            "count": 188,
            "name": "7702989919453351534"
           },
           {
            "count": 122,
            "name": "5002407858008059043"
           },
           {
            "count": 47111,
            "name": "9767 others"
           }
          ],
          "nan_count": 0,
          "unique_count": 9769
         }
        },
        {
         "dtype": "float64",
         "name": "rating"
        },
        {
         "dtype": "int64",
         "name": "ts"
        },
        {
         "dtype": "category",
         "name": "user_city"
        },
        {
         "dtype": "category",
         "name": "org_city"
        },
        {
         "dtype": "float64",
         "name": "average_bill"
        },
        {
         "dtype": "float64",
         "name": "average_bill_log"
        },
        {
         "dtype": "category",
         "name": "rubrics"
        },
        {
         "dtype": "int64",
         "name": "food_delivery"
        },
        {
         "dtype": "int64",
         "name": "breakfast"
        },
        {
         "dtype": "int64",
         "name": "takeaway"
        },
        {
         "dtype": "int64",
         "name": "summer_terrace"
        },
        {
         "dtype": "int64",
         "name": "wi_fi"
        },
        {
         "dtype": "int64",
         "name": "business_lunch"
        },
        {
         "dtype": "int64",
         "name": "payment_by_credit_card"
        },
        {
         "dtype": "int64",
         "name": "coffee_to_go"
        },
        {
         "dtype": "int64",
         "name": "closed_for_quarantine"
        },
        {
         "dtype": "int64",
         "name": "online_takeaway"
        },
        {
         "dtype": "int64",
         "name": "karaoke"
        },
        {
         "dtype": "int64",
         "name": "special_menu"
        },
        {
         "dtype": "int64",
         "name": "sports_broadcasts"
        },
        {
         "dtype": "int64",
         "name": "food_court1"
        },
        {
         "dtype": "int64",
         "name": "craft_beer"
        },
        {
         "dtype": "int64",
         "name": "projector"
        },
        {
         "dtype": "int64",
         "name": "gift_certificate"
        },
        {
         "dtype": "int64",
         "name": "wheelchair_access"
        },
        {
         "dtype": "int64",
         "name": "automatic_door"
        },
        {
         "dtype": "int64",
         "name": "food_product_delivery"
        },
        {
         "dtype": "int64",
         "name": "car_park"
        },
        {
         "dtype": "int64",
         "name": "parking_disabled"
        },
        {
         "dtype": "int64",
         "name": "toilet_for_disabled"
        },
        {
         "dtype": "int64",
         "name": "promotions"
        },
        {
         "dtype": "int64",
         "name": "minimum_order"
        },
        {
         "dtype": "int64",
         "name": "free_delivery"
        },
        {
         "dtype": "int64",
         "name": "self_service_kiosks"
        },
        {
         "dtype": "int64",
         "name": "air_conditioning"
        },
        {
         "dtype": "int64",
         "name": "pets"
        },
        {
         "dtype": "int64",
         "name": "elevator"
        },
        {
         "dtype": "int64",
         "name": "has_bar"
        },
        {
         "dtype": "int64",
         "name": "internet access"
        },
        {
         "dtype": "int64",
         "name": "privilege_tickets"
        },
        {
         "dtype": "int64",
         "name": "organic_food"
        },
        {
         "dtype": "int64",
         "name": "vip_zone"
        },
        {
         "dtype": "int64",
         "name": "hall_capacity"
        },
        {
         "dtype": "int64",
         "name": "face_control"
        },
        {
         "dtype": "int64",
         "name": "show_program"
        },
        {
         "dtype": "int64",
         "name": "music"
        },
        {
         "dtype": "int64",
         "name": "chillout"
        },
        {
         "dtype": "int64",
         "name": "dancefloor"
        },
        {
         "dtype": "int64",
         "name": "dress_code"
        },
        {
         "dtype": "int64",
         "name": "billiards"
        },
        {
         "dtype": "int64",
         "name": "strip"
        },
        {
         "dtype": "int64",
         "name": "elevator_wheelchair_accessible"
        },
        {
         "dtype": "int64",
         "name": "ramp"
        },
        {
         "dtype": "int64",
         "name": "around_the_clock_work1"
        },
        {
         "dtype": "int64",
         "name": "pickup"
        },
        {
         "dtype": "int64",
         "name": "farm_products"
        },
        {
         "dtype": "int64",
         "name": "delivery"
        },
        {
         "dtype": "int64",
         "name": "coffee_shop"
        },
        {
         "dtype": "int64",
         "name": "call_button"
        },
        {
         "dtype": "int64",
         "name": "wheelchair_accessible"
        },
        {
         "dtype": "int64",
         "name": "table_games"
        },
        {
         "dtype": "int64",
         "name": "vinotheque"
        },
        {
         "dtype": "int64",
         "name": "cakes_for_different_occasions"
        },
        {
         "dtype": "int64",
         "name": "kalyan"
        },
        {
         "dtype": "int64",
         "name": "teahouse"
        },
        {
         "dtype": "int64",
         "name": "bread_from_tandoor"
        },
        {
         "dtype": "int64",
         "name": "handmade_goods"
        },
        {
         "dtype": "int64",
         "name": "_deepnote_index_column"
        }
       ],
       "row_count": 47421,
       "rows": [
        {
         "_deepnote_index_column": "14",
         "air_conditioning": "0",
         "around_the_clock_work1": "0",
         "automatic_door": "0",
         "average_bill": "500.0",
         "average_bill_log": "2.6989700043360187",
         "billiards": "0",
         "bread_from_tandoor": "0",
         "breakfast": "1",
         "business_lunch": "1",
         "cakes_for_different_occasions": "0",
         "call_button": "0",
         "car_park": "0",
         "chillout": "0",
         "closed_for_quarantine": "1",
         "coffee_shop": "0",
         "coffee_to_go": "1",
         "craft_beer": "0",
         "dancefloor": "0",
         "delivery": "0",
         "dress_code": "0",
         "elevator": "0",
         "elevator_wheelchair_accessible": "0",
         "face_control": "0",
         "farm_products": "0",
         "food_court1": "0",
         "food_delivery": "1",
         "food_product_delivery": "0",
         "free_delivery": "0",
         "gift_certificate": "0",
         "hall_capacity": "0",
         "handmade_goods": "0",
         "has_bar": "0",
         "internet access": "0",
         "kalyan": "0",
         "karaoke": "0",
         "minimum_order": "0",
         "music": "0",
         "online_takeaway": "0",
         "org_city": "msk",
         "org_id": "17298320470833172098",
         "organic_food": "0",
         "parking_disabled": "0",
         "payment_by_credit_card": "1",
         "pets": "0",
         "pickup": "0",
         "privilege_tickets": "0",
         "projector": "0",
         "promotions": "0",
         "ramp": "0",
         "rating": "5.0",
         "rubrics": "Кафе",
         "self_service_kiosks": "0",
         "show_program": "0",
         "special_menu": "0",
         "sports_broadcasts": "0",
         "strip": "0",
         "summer_terrace": "1",
         "table_games": "0",
         "takeaway": "0",
         "teahouse": "0",
         "toilet_for_disabled": "0",
         "ts": "196",
         "user_city": "msk",
         "user_id": "17831623955922237170",
         "vinotheque": "0",
         "vip_zone": "0",
         "wheelchair_access": "0",
         "wheelchair_accessible": "0",
         "wi_fi": "1"
        },
        {
         "_deepnote_index_column": "15",
         "air_conditioning": "0",
         "around_the_clock_work1": "0",
         "automatic_door": "0",
         "average_bill": "500.0",
         "average_bill_log": "2.6989700043360187",
         "billiards": "0",
         "bread_from_tandoor": "0",
         "breakfast": "1",
         "business_lunch": "1",
         "cakes_for_different_occasions": "0",
         "call_button": "0",
         "car_park": "0",
         "chillout": "0",
         "closed_for_quarantine": "1",
         "coffee_shop": "0",
         "coffee_to_go": "1",
         "craft_beer": "0",
         "dancefloor": "0",
         "delivery": "0",
         "dress_code": "0",
         "elevator": "0",
         "elevator_wheelchair_accessible": "0",
         "face_control": "0",
         "farm_products": "0",
         "food_court1": "0",
         "food_delivery": "1",
         "food_product_delivery": "0",
         "free_delivery": "0",
         "gift_certificate": "0",
         "hall_capacity": "0",
         "handmade_goods": "0",
         "has_bar": "0",
         "internet access": "0",
         "kalyan": "0",
         "karaoke": "0",
         "minimum_order": "0",
         "music": "0",
         "online_takeaway": "0",
         "org_city": "msk",
         "org_id": "17298320470833172098",
         "organic_food": "0",
         "parking_disabled": "0",
         "payment_by_credit_card": "1",
         "pets": "0",
         "pickup": "0",
         "privilege_tickets": "0",
         "projector": "0",
         "promotions": "0",
         "ramp": "0",
         "rating": "5.0",
         "rubrics": "Кафе",
         "self_service_kiosks": "0",
         "show_program": "0",
         "special_menu": "0",
         "sports_broadcasts": "0",
         "strip": "0",
         "summer_terrace": "1",
         "table_games": "0",
         "takeaway": "0",
         "teahouse": "0",
         "toilet_for_disabled": "0",
         "ts": "40",
         "user_city": "msk",
         "user_id": "9376885319913260032",
         "vinotheque": "0",
         "vip_zone": "0",
         "wheelchair_access": "0",
         "wheelchair_accessible": "0",
         "wi_fi": "1"
        },
        {
         "_deepnote_index_column": "16",
         "air_conditioning": "0",
         "around_the_clock_work1": "0",
         "automatic_door": "0",
         "average_bill": "500.0",
         "average_bill_log": "2.6989700043360187",
         "billiards": "0",
         "bread_from_tandoor": "0",
         "breakfast": "1",
         "business_lunch": "1",
         "cakes_for_different_occasions": "0",
         "call_button": "0",
         "car_park": "0",
         "chillout": "0",
         "closed_for_quarantine": "1",
         "coffee_shop": "0",
         "coffee_to_go": "1",
         "craft_beer": "0",
         "dancefloor": "0",
         "delivery": "0",
         "dress_code": "0",
         "elevator": "0",
         "elevator_wheelchair_accessible": "0",
         "face_control": "0",
         "farm_products": "0",
         "food_court1": "0",
         "food_delivery": "1",
         "food_product_delivery": "0",
         "free_delivery": "0",
         "gift_certificate": "0",
         "hall_capacity": "0",
         "handmade_goods": "0",
         "has_bar": "0",
         "internet access": "0",
         "kalyan": "0",
         "karaoke": "0",
         "minimum_order": "0",
         "music": "0",
         "online_takeaway": "0",
         "org_city": "msk",
         "org_id": "17298320470833172098",
         "organic_food": "0",
         "parking_disabled": "0",
         "payment_by_credit_card": "1",
         "pets": "0",
         "pickup": "0",
         "privilege_tickets": "0",
         "projector": "0",
         "promotions": "0",
         "ramp": "0",
         "rating": "4.0",
         "rubrics": "Кафе",
         "self_service_kiosks": "0",
         "show_program": "0",
         "special_menu": "0",
         "sports_broadcasts": "0",
         "strip": "0",
         "summer_terrace": "1",
         "table_games": "0",
         "takeaway": "0",
         "teahouse": "0",
         "toilet_for_disabled": "0",
         "ts": "962",
         "user_city": "msk",
         "user_id": "177902855161420442",
         "vinotheque": "0",
         "vip_zone": "0",
         "wheelchair_access": "0",
         "wheelchair_accessible": "0",
         "wi_fi": "1"
        },
        {
         "_deepnote_index_column": "17",
         "air_conditioning": "0",
         "around_the_clock_work1": "0",
         "automatic_door": "0",
         "average_bill": "500.0",
         "average_bill_log": "2.6989700043360187",
         "billiards": "0",
         "bread_from_tandoor": "0",
         "breakfast": "1",
         "business_lunch": "1",
         "cakes_for_different_occasions": "0",
         "call_button": "0",
         "car_park": "0",
         "chillout": "0",
         "closed_for_quarantine": "1",
         "coffee_shop": "0",
         "coffee_to_go": "1",
         "craft_beer": "0",
         "dancefloor": "0",
         "delivery": "0",
         "dress_code": "0",
         "elevator": "0",
         "elevator_wheelchair_accessible": "0",
         "face_control": "0",
         "farm_products": "0",
         "food_court1": "0",
         "food_delivery": "1",
         "food_product_delivery": "0",
         "free_delivery": "0",
         "gift_certificate": "0",
         "hall_capacity": "0",
         "handmade_goods": "0",
         "has_bar": "0",
         "internet access": "0",
         "kalyan": "0",
         "karaoke": "0",
         "minimum_order": "0",
         "music": "0",
         "online_takeaway": "0",
         "org_city": "msk",
         "org_id": "17298320470833172098",
         "organic_food": "0",
         "parking_disabled": "0",
         "payment_by_credit_card": "1",
         "pets": "0",
         "pickup": "0",
         "privilege_tickets": "0",
         "projector": "0",
         "promotions": "0",
         "ramp": "0",
         "rating": "5.0",
         "rubrics": "Кафе",
         "self_service_kiosks": "0",
         "show_program": "0",
         "special_menu": "0",
         "sports_broadcasts": "0",
         "strip": "0",
         "summer_terrace": "1",
         "table_games": "0",
         "takeaway": "0",
         "teahouse": "0",
         "toilet_for_disabled": "0",
         "ts": "531",
         "user_city": "msk",
         "user_id": "3302161189676549634",
         "vinotheque": "0",
         "vip_zone": "0",
         "wheelchair_access": "0",
         "wheelchair_accessible": "0",
         "wi_fi": "1"
        },
        {
         "_deepnote_index_column": "18",
         "air_conditioning": "0",
         "around_the_clock_work1": "0",
         "automatic_door": "0",
         "average_bill": "500.0",
         "average_bill_log": "2.6989700043360187",
         "billiards": "0",
         "bread_from_tandoor": "0",
         "breakfast": "1",
         "business_lunch": "1",
         "cakes_for_different_occasions": "0",
         "call_button": "0",
         "car_park": "0",
         "chillout": "0",
         "closed_for_quarantine": "1",
         "coffee_shop": "0",
         "coffee_to_go": "1",
         "craft_beer": "0",
         "dancefloor": "0",
         "delivery": "0",
         "dress_code": "0",
         "elevator": "0",
         "elevator_wheelchair_accessible": "0",
         "face_control": "0",
         "farm_products": "0",
         "food_court1": "0",
         "food_delivery": "1",
         "food_product_delivery": "0",
         "free_delivery": "0",
         "gift_certificate": "0",
         "hall_capacity": "0",
         "handmade_goods": "0",
         "has_bar": "0",
         "internet access": "0",
         "kalyan": "0",
         "karaoke": "0",
         "minimum_order": "0",
         "music": "0",
         "online_takeaway": "0",
         "org_city": "msk",
         "org_id": "17298320470833172098",
         "organic_food": "0",
         "parking_disabled": "0",
         "payment_by_credit_card": "1",
         "pets": "0",
         "pickup": "0",
         "privilege_tickets": "0",
         "projector": "0",
         "promotions": "0",
         "ramp": "0",
         "rating": "5.0",
         "rubrics": "Кафе",
         "self_service_kiosks": "0",
         "show_program": "0",
         "special_menu": "0",
         "sports_broadcasts": "0",
         "strip": "0",
         "summer_terrace": "1",
         "table_games": "0",
         "takeaway": "0",
         "teahouse": "0",
         "toilet_for_disabled": "0",
         "ts": "76",
         "user_city": "msk",
         "user_id": "6839266467730918076",
         "vinotheque": "0",
         "vip_zone": "0",
         "wheelchair_access": "0",
         "wheelchair_accessible": "0",
         "wi_fi": "1"
        },
        {
         "_deepnote_index_column": "19",
         "air_conditioning": "0",
         "around_the_clock_work1": "0",
         "automatic_door": "0",
         "average_bill": "500.0",
         "average_bill_log": "2.6989700043360187",
         "billiards": "0",
         "bread_from_tandoor": "0",
         "breakfast": "1",
         "business_lunch": "1",
         "cakes_for_different_occasions": "0",
         "call_button": "0",
         "car_park": "0",
         "chillout": "0",
         "closed_for_quarantine": "1",
         "coffee_shop": "0",
         "coffee_to_go": "1",
         "craft_beer": "0",
         "dancefloor": "0",
         "delivery": "0",
         "dress_code": "0",
         "elevator": "0",
         "elevator_wheelchair_accessible": "0",
         "face_control": "0",
         "farm_products": "0",
         "food_court1": "0",
         "food_delivery": "1",
         "food_product_delivery": "0",
         "free_delivery": "0",
         "gift_certificate": "0",
         "hall_capacity": "0",
         "handmade_goods": "0",
         "has_bar": "0",
         "internet access": "0",
         "kalyan": "0",
         "karaoke": "0",
         "minimum_order": "0",
         "music": "0",
         "online_takeaway": "0",
         "org_city": "msk",
         "org_id": "17298320470833172098",
         "organic_food": "0",
         "parking_disabled": "0",
         "payment_by_credit_card": "1",
         "pets": "0",
         "pickup": "0",
         "privilege_tickets": "0",
         "projector": "0",
         "promotions": "0",
         "ramp": "0",
         "rating": "5.0",
         "rubrics": "Кафе",
         "self_service_kiosks": "0",
         "show_program": "0",
         "special_menu": "0",
         "sports_broadcasts": "0",
         "strip": "0",
         "summer_terrace": "1",
         "table_games": "0",
         "takeaway": "0",
         "teahouse": "0",
         "toilet_for_disabled": "0",
         "ts": "668",
         "user_city": "msk",
         "user_id": "9521381477541922824",
         "vinotheque": "0",
         "vip_zone": "0",
         "wheelchair_access": "0",
         "wheelchair_accessible": "0",
         "wi_fi": "1"
        },
        {
         "_deepnote_index_column": "20",
         "air_conditioning": "0",
         "around_the_clock_work1": "0",
         "automatic_door": "0",
         "average_bill": "500.0",
         "average_bill_log": "2.6989700043360187",
         "billiards": "0",
         "bread_from_tandoor": "0",
         "breakfast": "1",
         "business_lunch": "1",
         "cakes_for_different_occasions": "0",
         "call_button": "0",
         "car_park": "0",
         "chillout": "0",
         "closed_for_quarantine": "1",
         "coffee_shop": "0",
         "coffee_to_go": "1",
         "craft_beer": "0",
         "dancefloor": "0",
         "delivery": "0",
         "dress_code": "0",
         "elevator": "0",
         "elevator_wheelchair_accessible": "0",
         "face_control": "0",
         "farm_products": "0",
         "food_court1": "0",
         "food_delivery": "1",
         "food_product_delivery": "0",
         "free_delivery": "0",
         "gift_certificate": "0",
         "hall_capacity": "0",
         "handmade_goods": "0",
         "has_bar": "0",
         "internet access": "0",
         "kalyan": "0",
         "karaoke": "0",
         "minimum_order": "0",
         "music": "0",
         "online_takeaway": "0",
         "org_city": "msk",
         "org_id": "17298320470833172098",
         "organic_food": "0",
         "parking_disabled": "0",
         "payment_by_credit_card": "1",
         "pets": "0",
         "pickup": "0",
         "privilege_tickets": "0",
         "projector": "0",
         "promotions": "0",
         "ramp": "0",
         "rating": "3.0",
         "rubrics": "Кафе",
         "self_service_kiosks": "0",
         "show_program": "0",
         "special_menu": "0",
         "sports_broadcasts": "0",
         "strip": "0",
         "summer_terrace": "1",
         "table_games": "0",
         "takeaway": "0",
         "teahouse": "0",
         "toilet_for_disabled": "0",
         "ts": "740",
         "user_city": "msk",
         "user_id": "16657746294572039978",
         "vinotheque": "0",
         "vip_zone": "0",
         "wheelchair_access": "0",
         "wheelchair_accessible": "0",
         "wi_fi": "1"
        },
        {
         "_deepnote_index_column": "21",
         "air_conditioning": "0",
         "around_the_clock_work1": "0",
         "automatic_door": "0",
         "average_bill": "500.0",
         "average_bill_log": "2.6989700043360187",
         "billiards": "0",
         "bread_from_tandoor": "0",
         "breakfast": "1",
         "business_lunch": "1",
         "cakes_for_different_occasions": "0",
         "call_button": "0",
         "car_park": "0",
         "chillout": "0",
         "closed_for_quarantine": "1",
         "coffee_shop": "0",
         "coffee_to_go": "1",
         "craft_beer": "0",
         "dancefloor": "0",
         "delivery": "0",
         "dress_code": "0",
         "elevator": "0",
         "elevator_wheelchair_accessible": "0",
         "face_control": "0",
         "farm_products": "0",
         "food_court1": "0",
         "food_delivery": "1",
         "food_product_delivery": "0",
         "free_delivery": "0",
         "gift_certificate": "0",
         "hall_capacity": "0",
         "handmade_goods": "0",
         "has_bar": "0",
         "internet access": "0",
         "kalyan": "0",
         "karaoke": "0",
         "minimum_order": "0",
         "music": "0",
         "online_takeaway": "0",
         "org_city": "msk",
         "org_id": "17298320470833172098",
         "organic_food": "0",
         "parking_disabled": "0",
         "payment_by_credit_card": "1",
         "pets": "0",
         "pickup": "0",
         "privilege_tickets": "0",
         "projector": "0",
         "promotions": "0",
         "ramp": "0",
         "rating": "3.0",
         "rubrics": "Кафе",
         "self_service_kiosks": "0",
         "show_program": "0",
         "special_menu": "0",
         "sports_broadcasts": "0",
         "strip": "0",
         "summer_terrace": "1",
         "table_games": "0",
         "takeaway": "0",
         "teahouse": "0",
         "toilet_for_disabled": "0",
         "ts": "617",
         "user_city": "msk",
         "user_id": "9103713240820367541",
         "vinotheque": "0",
         "vip_zone": "0",
         "wheelchair_access": "0",
         "wheelchair_accessible": "0",
         "wi_fi": "1"
        },
        {
         "_deepnote_index_column": "22",
         "air_conditioning": "0",
         "around_the_clock_work1": "0",
         "automatic_door": "0",
         "average_bill": "500.0",
         "average_bill_log": "2.6989700043360187",
         "billiards": "0",
         "bread_from_tandoor": "0",
         "breakfast": "1",
         "business_lunch": "1",
         "cakes_for_different_occasions": "0",
         "call_button": "0",
         "car_park": "0",
         "chillout": "0",
         "closed_for_quarantine": "1",
         "coffee_shop": "0",
         "coffee_to_go": "1",
         "craft_beer": "0",
         "dancefloor": "0",
         "delivery": "0",
         "dress_code": "0",
         "elevator": "0",
         "elevator_wheelchair_accessible": "0",
         "face_control": "0",
         "farm_products": "0",
         "food_court1": "0",
         "food_delivery": "1",
         "food_product_delivery": "0",
         "free_delivery": "0",
         "gift_certificate": "0",
         "hall_capacity": "0",
         "handmade_goods": "0",
         "has_bar": "0",
         "internet access": "0",
         "kalyan": "0",
         "karaoke": "0",
         "minimum_order": "0",
         "music": "0",
         "online_takeaway": "0",
         "org_city": "msk",
         "org_id": "17298320470833172098",
         "organic_food": "0",
         "parking_disabled": "0",
         "payment_by_credit_card": "1",
         "pets": "0",
         "pickup": "0",
         "privilege_tickets": "0",
         "projector": "0",
         "promotions": "0",
         "ramp": "0",
         "rating": "3.0",
         "rubrics": "Кафе",
         "self_service_kiosks": "0",
         "show_program": "0",
         "special_menu": "0",
         "sports_broadcasts": "0",
         "strip": "0",
         "summer_terrace": "1",
         "table_games": "0",
         "takeaway": "0",
         "teahouse": "0",
         "toilet_for_disabled": "0",
         "ts": "1197",
         "user_city": "msk",
         "user_id": "14983627171778735191",
         "vinotheque": "0",
         "vip_zone": "0",
         "wheelchair_access": "0",
         "wheelchair_accessible": "0",
         "wi_fi": "1"
        },
        {
         "_deepnote_index_column": "23",
         "air_conditioning": "0",
         "around_the_clock_work1": "0",
         "automatic_door": "0",
         "average_bill": "500.0",
         "average_bill_log": "2.6989700043360187",
         "billiards": "0",
         "bread_from_tandoor": "0",
         "breakfast": "1",
         "business_lunch": "1",
         "cakes_for_different_occasions": "0",
         "call_button": "0",
         "car_park": "0",
         "chillout": "0",
         "closed_for_quarantine": "1",
         "coffee_shop": "0",
         "coffee_to_go": "1",
         "craft_beer": "0",
         "dancefloor": "0",
         "delivery": "0",
         "dress_code": "0",
         "elevator": "0",
         "elevator_wheelchair_accessible": "0",
         "face_control": "0",
         "farm_products": "0",
         "food_court1": "0",
         "food_delivery": "1",
         "food_product_delivery": "0",
         "free_delivery": "0",
         "gift_certificate": "0",
         "hall_capacity": "0",
         "handmade_goods": "0",
         "has_bar": "0",
         "internet access": "0",
         "kalyan": "0",
         "karaoke": "0",
         "minimum_order": "0",
         "music": "0",
         "online_takeaway": "0",
         "org_city": "msk",
         "org_id": "17298320470833172098",
         "organic_food": "0",
         "parking_disabled": "0",
         "payment_by_credit_card": "1",
         "pets": "0",
         "pickup": "0",
         "privilege_tickets": "0",
         "projector": "0",
         "promotions": "0",
         "ramp": "0",
         "rating": "5.0",
         "rubrics": "Кафе",
         "self_service_kiosks": "0",
         "show_program": "0",
         "special_menu": "0",
         "sports_broadcasts": "0",
         "strip": "0",
         "summer_terrace": "1",
         "table_games": "0",
         "takeaway": "0",
         "teahouse": "0",
         "toilet_for_disabled": "0",
         "ts": "600",
         "user_city": "msk",
         "user_id": "15630290438428551883",
         "vinotheque": "0",
         "vip_zone": "0",
         "wheelchair_access": "0",
         "wheelchair_accessible": "0",
         "wi_fi": "1"
        }
       ]
      },
      "text/html": [
       "<div>\n",
       "<style scoped>\n",
       "    .dataframe tbody tr th:only-of-type {\n",
       "        vertical-align: middle;\n",
       "    }\n",
       "\n",
       "    .dataframe tbody tr th {\n",
       "        vertical-align: top;\n",
       "    }\n",
       "\n",
       "    .dataframe thead th {\n",
       "        text-align: right;\n",
       "    }\n",
       "</style>\n",
       "<table border=\"1\" class=\"dataframe\">\n",
       "  <thead>\n",
       "    <tr style=\"text-align: right;\">\n",
       "      <th></th>\n",
       "      <th>user_id</th>\n",
       "      <th>org_id</th>\n",
       "      <th>rating</th>\n",
       "      <th>ts</th>\n",
       "      <th>user_city</th>\n",
       "      <th>org_city</th>\n",
       "      <th>average_bill</th>\n",
       "      <th>average_bill_log</th>\n",
       "      <th>rubrics</th>\n",
       "      <th>food_delivery</th>\n",
       "      <th>...</th>\n",
       "      <th>coffee_shop</th>\n",
       "      <th>call_button</th>\n",
       "      <th>wheelchair_accessible</th>\n",
       "      <th>table_games</th>\n",
       "      <th>vinotheque</th>\n",
       "      <th>cakes_for_different_occasions</th>\n",
       "      <th>kalyan</th>\n",
       "      <th>teahouse</th>\n",
       "      <th>bread_from_tandoor</th>\n",
       "      <th>handmade_goods</th>\n",
       "    </tr>\n",
       "  </thead>\n",
       "  <tbody>\n",
       "    <tr>\n",
       "      <th>14</th>\n",
       "      <td>17831623955922237170</td>\n",
       "      <td>17298320470833172098</td>\n",
       "      <td>5.0</td>\n",
       "      <td>196</td>\n",
       "      <td>msk</td>\n",
       "      <td>msk</td>\n",
       "      <td>500.0</td>\n",
       "      <td>2.69897</td>\n",
       "      <td>Кафе</td>\n",
       "      <td>1</td>\n",
       "      <td>...</td>\n",
       "      <td>0</td>\n",
       "      <td>0</td>\n",
       "      <td>0</td>\n",
       "      <td>0</td>\n",
       "      <td>0</td>\n",
       "      <td>0</td>\n",
       "      <td>0</td>\n",
       "      <td>0</td>\n",
       "      <td>0</td>\n",
       "      <td>0</td>\n",
       "    </tr>\n",
       "    <tr>\n",
       "      <th>15</th>\n",
       "      <td>9376885319913260032</td>\n",
       "      <td>17298320470833172098</td>\n",
       "      <td>5.0</td>\n",
       "      <td>40</td>\n",
       "      <td>msk</td>\n",
       "      <td>msk</td>\n",
       "      <td>500.0</td>\n",
       "      <td>2.69897</td>\n",
       "      <td>Кафе</td>\n",
       "      <td>1</td>\n",
       "      <td>...</td>\n",
       "      <td>0</td>\n",
       "      <td>0</td>\n",
       "      <td>0</td>\n",
       "      <td>0</td>\n",
       "      <td>0</td>\n",
       "      <td>0</td>\n",
       "      <td>0</td>\n",
       "      <td>0</td>\n",
       "      <td>0</td>\n",
       "      <td>0</td>\n",
       "    </tr>\n",
       "    <tr>\n",
       "      <th>16</th>\n",
       "      <td>177902855161420442</td>\n",
       "      <td>17298320470833172098</td>\n",
       "      <td>4.0</td>\n",
       "      <td>962</td>\n",
       "      <td>msk</td>\n",
       "      <td>msk</td>\n",
       "      <td>500.0</td>\n",
       "      <td>2.69897</td>\n",
       "      <td>Кафе</td>\n",
       "      <td>1</td>\n",
       "      <td>...</td>\n",
       "      <td>0</td>\n",
       "      <td>0</td>\n",
       "      <td>0</td>\n",
       "      <td>0</td>\n",
       "      <td>0</td>\n",
       "      <td>0</td>\n",
       "      <td>0</td>\n",
       "      <td>0</td>\n",
       "      <td>0</td>\n",
       "      <td>0</td>\n",
       "    </tr>\n",
       "    <tr>\n",
       "      <th>17</th>\n",
       "      <td>3302161189676549634</td>\n",
       "      <td>17298320470833172098</td>\n",
       "      <td>5.0</td>\n",
       "      <td>531</td>\n",
       "      <td>msk</td>\n",
       "      <td>msk</td>\n",
       "      <td>500.0</td>\n",
       "      <td>2.69897</td>\n",
       "      <td>Кафе</td>\n",
       "      <td>1</td>\n",
       "      <td>...</td>\n",
       "      <td>0</td>\n",
       "      <td>0</td>\n",
       "      <td>0</td>\n",
       "      <td>0</td>\n",
       "      <td>0</td>\n",
       "      <td>0</td>\n",
       "      <td>0</td>\n",
       "      <td>0</td>\n",
       "      <td>0</td>\n",
       "      <td>0</td>\n",
       "    </tr>\n",
       "    <tr>\n",
       "      <th>18</th>\n",
       "      <td>6839266467730918076</td>\n",
       "      <td>17298320470833172098</td>\n",
       "      <td>5.0</td>\n",
       "      <td>76</td>\n",
       "      <td>msk</td>\n",
       "      <td>msk</td>\n",
       "      <td>500.0</td>\n",
       "      <td>2.69897</td>\n",
       "      <td>Кафе</td>\n",
       "      <td>1</td>\n",
       "      <td>...</td>\n",
       "      <td>0</td>\n",
       "      <td>0</td>\n",
       "      <td>0</td>\n",
       "      <td>0</td>\n",
       "      <td>0</td>\n",
       "      <td>0</td>\n",
       "      <td>0</td>\n",
       "      <td>0</td>\n",
       "      <td>0</td>\n",
       "      <td>0</td>\n",
       "    </tr>\n",
       "    <tr>\n",
       "      <th>...</th>\n",
       "      <td>...</td>\n",
       "      <td>...</td>\n",
       "      <td>...</td>\n",
       "      <td>...</td>\n",
       "      <td>...</td>\n",
       "      <td>...</td>\n",
       "      <td>...</td>\n",
       "      <td>...</td>\n",
       "      <td>...</td>\n",
       "      <td>...</td>\n",
       "      <td>...</td>\n",
       "      <td>...</td>\n",
       "      <td>...</td>\n",
       "      <td>...</td>\n",
       "      <td>...</td>\n",
       "      <td>...</td>\n",
       "      <td>...</td>\n",
       "      <td>...</td>\n",
       "      <td>...</td>\n",
       "      <td>...</td>\n",
       "      <td>...</td>\n",
       "    </tr>\n",
       "    <tr>\n",
       "      <th>104249</th>\n",
       "      <td>18080670751989459314</td>\n",
       "      <td>16389319930802966171</td>\n",
       "      <td>5.0</td>\n",
       "      <td>490</td>\n",
       "      <td>msk</td>\n",
       "      <td>msk</td>\n",
       "      <td>500.0</td>\n",
       "      <td>2.69897</td>\n",
       "      <td>Ресторан</td>\n",
       "      <td>0</td>\n",
       "      <td>...</td>\n",
       "      <td>0</td>\n",
       "      <td>0</td>\n",
       "      <td>0</td>\n",
       "      <td>0</td>\n",
       "      <td>0</td>\n",
       "      <td>0</td>\n",
       "      <td>0</td>\n",
       "      <td>0</td>\n",
       "      <td>0</td>\n",
       "      <td>0</td>\n",
       "    </tr>\n",
       "    <tr>\n",
       "      <th>104250</th>\n",
       "      <td>8991457401971022501</td>\n",
       "      <td>8123696966366210621</td>\n",
       "      <td>1.0</td>\n",
       "      <td>647</td>\n",
       "      <td>msk</td>\n",
       "      <td>msk</td>\n",
       "      <td>500.0</td>\n",
       "      <td>2.69897</td>\n",
       "      <td>Ресторан</td>\n",
       "      <td>1</td>\n",
       "      <td>...</td>\n",
       "      <td>0</td>\n",
       "      <td>0</td>\n",
       "      <td>0</td>\n",
       "      <td>0</td>\n",
       "      <td>0</td>\n",
       "      <td>0</td>\n",
       "      <td>0</td>\n",
       "      <td>0</td>\n",
       "      <td>0</td>\n",
       "      <td>0</td>\n",
       "    </tr>\n",
       "    <tr>\n",
       "      <th>104270</th>\n",
       "      <td>10303950645451659605</td>\n",
       "      <td>2009927720841218679</td>\n",
       "      <td>1.0</td>\n",
       "      <td>792</td>\n",
       "      <td>spb</td>\n",
       "      <td>spb</td>\n",
       "      <td>500.0</td>\n",
       "      <td>2.69897</td>\n",
       "      <td>Кафе</td>\n",
       "      <td>1</td>\n",
       "      <td>...</td>\n",
       "      <td>0</td>\n",
       "      <td>0</td>\n",
       "      <td>0</td>\n",
       "      <td>0</td>\n",
       "      <td>0</td>\n",
       "      <td>0</td>\n",
       "      <td>0</td>\n",
       "      <td>0</td>\n",
       "      <td>0</td>\n",
       "      <td>0</td>\n",
       "    </tr>\n",
       "    <tr>\n",
       "      <th>104273</th>\n",
       "      <td>15294955784899173947</td>\n",
       "      <td>14098598077744238961</td>\n",
       "      <td>5.0</td>\n",
       "      <td>360</td>\n",
       "      <td>msk</td>\n",
       "      <td>msk</td>\n",
       "      <td>500.0</td>\n",
       "      <td>2.69897</td>\n",
       "      <td>Бар, паб</td>\n",
       "      <td>1</td>\n",
       "      <td>...</td>\n",
       "      <td>0</td>\n",
       "      <td>0</td>\n",
       "      <td>0</td>\n",
       "      <td>0</td>\n",
       "      <td>0</td>\n",
       "      <td>0</td>\n",
       "      <td>0</td>\n",
       "      <td>0</td>\n",
       "      <td>0</td>\n",
       "      <td>0</td>\n",
       "    </tr>\n",
       "    <tr>\n",
       "      <th>104276</th>\n",
       "      <td>743309475815728617</td>\n",
       "      <td>11330964002675972575</td>\n",
       "      <td>1.0</td>\n",
       "      <td>634</td>\n",
       "      <td>msk</td>\n",
       "      <td>msk</td>\n",
       "      <td>1000.0</td>\n",
       "      <td>3.00000</td>\n",
       "      <td>Кафе</td>\n",
       "      <td>1</td>\n",
       "      <td>...</td>\n",
       "      <td>0</td>\n",
       "      <td>0</td>\n",
       "      <td>0</td>\n",
       "      <td>0</td>\n",
       "      <td>0</td>\n",
       "      <td>0</td>\n",
       "      <td>0</td>\n",
       "      <td>0</td>\n",
       "      <td>0</td>\n",
       "      <td>0</td>\n",
       "    </tr>\n",
       "  </tbody>\n",
       "</table>\n",
       "<p>47421 rows × 69 columns</p>\n",
       "</div>"
      ],
      "text/plain": [
       "                     user_id                org_id  rating   ts user_city  \\\n",
       "14      17831623955922237170  17298320470833172098     5.0  196       msk   \n",
       "15       9376885319913260032  17298320470833172098     5.0   40       msk   \n",
       "16        177902855161420442  17298320470833172098     4.0  962       msk   \n",
       "17       3302161189676549634  17298320470833172098     5.0  531       msk   \n",
       "18       6839266467730918076  17298320470833172098     5.0   76       msk   \n",
       "...                      ...                   ...     ...  ...       ...   \n",
       "104249  18080670751989459314  16389319930802966171     5.0  490       msk   \n",
       "104250   8991457401971022501   8123696966366210621     1.0  647       msk   \n",
       "104270  10303950645451659605   2009927720841218679     1.0  792       spb   \n",
       "104273  15294955784899173947  14098598077744238961     5.0  360       msk   \n",
       "104276    743309475815728617  11330964002675972575     1.0  634       msk   \n",
       "\n",
       "       org_city  average_bill  average_bill_log   rubrics  food_delivery  ...  \\\n",
       "14          msk         500.0           2.69897      Кафе              1  ...   \n",
       "15          msk         500.0           2.69897      Кафе              1  ...   \n",
       "16          msk         500.0           2.69897      Кафе              1  ...   \n",
       "17          msk         500.0           2.69897      Кафе              1  ...   \n",
       "18          msk         500.0           2.69897      Кафе              1  ...   \n",
       "...         ...           ...               ...       ...            ...  ...   \n",
       "104249      msk         500.0           2.69897  Ресторан              0  ...   \n",
       "104250      msk         500.0           2.69897  Ресторан              1  ...   \n",
       "104270      spb         500.0           2.69897      Кафе              1  ...   \n",
       "104273      msk         500.0           2.69897  Бар, паб              1  ...   \n",
       "104276      msk        1000.0           3.00000      Кафе              1  ...   \n",
       "\n",
       "        coffee_shop  call_button  wheelchair_accessible  table_games  \\\n",
       "14                0            0                      0            0   \n",
       "15                0            0                      0            0   \n",
       "16                0            0                      0            0   \n",
       "17                0            0                      0            0   \n",
       "18                0            0                      0            0   \n",
       "...             ...          ...                    ...          ...   \n",
       "104249            0            0                      0            0   \n",
       "104250            0            0                      0            0   \n",
       "104270            0            0                      0            0   \n",
       "104273            0            0                      0            0   \n",
       "104276            0            0                      0            0   \n",
       "\n",
       "        vinotheque  cakes_for_different_occasions  kalyan  teahouse  \\\n",
       "14               0                              0       0         0   \n",
       "15               0                              0       0         0   \n",
       "16               0                              0       0         0   \n",
       "17               0                              0       0         0   \n",
       "18               0                              0       0         0   \n",
       "...            ...                            ...     ...       ...   \n",
       "104249           0                              0       0         0   \n",
       "104250           0                              0       0         0   \n",
       "104270           0                              0       0         0   \n",
       "104273           0                              0       0         0   \n",
       "104276           0                              0       0         0   \n",
       "\n",
       "        bread_from_tandoor  handmade_goods  \n",
       "14                       0               0  \n",
       "15                       0               0  \n",
       "16                       0               0  \n",
       "17                       0               0  \n",
       "18                       0               0  \n",
       "...                    ...             ...  \n",
       "104249                   0               0  \n",
       "104250                   0               0  \n",
       "104270                   0               0  \n",
       "104273                   0               0  \n",
       "104276                   0               0  \n",
       "\n",
       "[47421 rows x 69 columns]"
      ]
     },
     "execution_count": 20,
     "metadata": {},
     "output_type": "execute_result"
    }
   ],
   "source": [
    "UPD_organisations_rating\n",
    "\n",
    "# !pip install openpyxl\n",
    "# UPD_organisations_rating.to_excel('UPD_organisations_rating.xlsx')"
   ]
  }
 ],
 "metadata": {
  "deepnote": {},
  "deepnote_execution_queue": [],
  "deepnote_notebook_id": "7358abbf71364b9e81a44baa4922cd41",
  "kernelspec": {
   "display_name": "Python 3 (ipykernel)",
   "language": "python",
   "name": "python3"
  },
  "language_info": {
   "codemirror_mode": {
    "name": "ipython",
    "version": 3
   },
   "file_extension": ".py",
   "mimetype": "text/x-python",
   "name": "python",
   "nbconvert_exporter": "python",
   "pygments_lexer": "ipython3",
   "version": "3.9.13"
  },
  "toc": {
   "base_numbering": 1,
   "nav_menu": {},
   "number_sections": true,
   "sideBar": true,
   "skip_h1_title": false,
   "title_cell": "Table of Contents",
   "title_sidebar": "Contents",
   "toc_cell": false,
   "toc_position": {
    "height": "calc(100% - 180px)",
    "left": "10px",
    "top": "150px",
    "width": "165px"
   },
   "toc_section_display": true,
   "toc_window_display": false
  }
 },
 "nbformat": 4,
 "nbformat_minor": 1
}
