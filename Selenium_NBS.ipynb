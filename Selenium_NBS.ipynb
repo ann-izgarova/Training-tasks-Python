{
 "cells": [
  {
   "cell_type": "markdown",
   "metadata": {},
   "source": [
    "## Предварительная информация\n",
    "\n",
    "Для выполнения данного скрипта требуется иметь браузер **Google Chrome** и **Jupiter Notebook**.\n",
    "\n",
    "Также скрипт использует модуль **Selenium**, позволяющий имитировать действия пользователя в браузере и получать нужные данные. Установить модуль не сложно. \n",
    "\n",
    "**[Установка Selenium по шагам:](https://shanyitan.medium.com/how-to-install-selenium-and-run-it-successfully-via-jupyter-lab-c3f50d22a0d4)**\n",
    "\n",
    "1. Установите Selenium, если необходимо, раскомментив строчку ниже. Установка займет несколько секунд"
   ]
  },
  {
   "cell_type": "code",
   "execution_count": 14,
   "metadata": {},
   "outputs": [],
   "source": [
    "# !pip install selenium"
   ]
  },
  {
   "cell_type": "markdown",
   "metadata": {},
   "source": [
    "2. Скачайте Chrome Driver (например, если используете windows, chromedriver_win32.zip):  \n",
    "https://chromedriver.storage.googleapis.com/index.html?path=108.0.5359.71/"
   ]
  },
  {
   "cell_type": "markdown",
   "metadata": {},
   "source": [
    "3. С помощью команд, приведенных ниже, узнайте нужный ПУТЬ для копирования .exe файла :"
   ]
  },
  {
   "cell_type": "code",
   "execution_count": 15,
   "metadata": {},
   "outputs": [
    {
     "data": {
      "text/plain": [
       "'C:\\\\Users\\\\Vanessa\\\\anaconda3'"
      ]
     },
     "execution_count": 15,
     "metadata": {},
     "output_type": "execute_result"
    }
   ],
   "source": [
    "import os\n",
    "import sys\n",
    "os.path.dirname(sys.executable)"
   ]
  },
  {
   "cell_type": "markdown",
   "metadata": {},
   "source": [
    "4. Скопируйте .exe файл в найденный ПУТЬ.   \n",
    "С помощью команд ниже проверьте, что браузер открылся в новом окне."
   ]
  },
  {
   "cell_type": "code",
   "execution_count": 16,
   "metadata": {},
   "outputs": [],
   "source": [
    "from time import sleep\n",
    "from selenium import webdriver\n",
    "browser = webdriver.Chrome()\n",
    "browser.get('https://www.google.com/')"
   ]
  },
  {
   "cell_type": "markdown",
   "metadata": {},
   "source": [
    "Закройте эту тестовую вкладку браузера, она больше не нужна."
   ]
  },
  {
   "cell_type": "markdown",
   "metadata": {},
   "source": [
    "## Запрос к сайту NBS"
   ]
  },
  {
   "cell_type": "markdown",
   "metadata": {},
   "source": [
    "Загрузка нужных библиотек"
   ]
  },
  {
   "cell_type": "code",
   "execution_count": 17,
   "metadata": {},
   "outputs": [],
   "source": [
    "from selenium import webdriver\n",
    "from selenium.webdriver.common.by import By\n",
    "# from selenium.webdriver.support.ui import WebDriverWait \n",
    "# from selenium.webdriver.support import expected_conditions as EC \n",
    "from selenium.webdriver.support.ui import Select #выбор значения из выпадающего списка\n",
    "from selenium.webdriver.chrome.options import Options"
   ]
  },
  {
   "cell_type": "markdown",
   "metadata": {},
   "source": [
    "Задайте директорию для загрузки конечного Excel-файла. (Удаление буквы **r** из начала строки приведет к ошибке)."
   ]
  },
  {
   "cell_type": "code",
   "execution_count": 18,
   "metadata": {},
   "outputs": [],
   "source": [
    "directory = r\"C:\\Users\\Vanessa\\Downloads\""
   ]
  },
  {
   "cell_type": "markdown",
   "metadata": {},
   "source": [
    "Используйте заданные параметры запроса:"
   ]
  },
  {
   "cell_type": "code",
   "execution_count": 19,
   "metadata": {},
   "outputs": [],
   "source": [
    "start_date = \"07/11/2022\"\n",
    "finish_date = \"07/12/2022\"\n",
    "valuta = \"978\" #euro code\n",
    "type_rate = \"3\" #Middle Exchange Rate\n",
    "download_type = \"xls\"\n",
    "days = \"true\" #Working and non working days"
   ]
  },
  {
   "cell_type": "markdown",
   "metadata": {},
   "source": [
    "Выполните следуюшие команды для скачивания файла с указанными в задании параметрами. Это займет несколько секунд."
   ]
  },
  {
   "cell_type": "code",
   "execution_count": 25,
   "metadata": {
    "scrolled": true
   },
   "outputs": [],
   "source": [
    "# установливаем настройки подключения\n",
    "options = Options()\n",
    "# безлоговый режим - браузер не открывается\n",
    "# options.add_argument('--headless')\n",
    "# Задаем нужную директорию для загрузки excel-файла\n",
    "options.add_experimental_option(\"prefs\", \n",
    "    {\"download.default_directory\": directory,\n",
    "     \"download.prompt_for_download\": False,\n",
    "     \"download.directory_upgrade\": True,\n",
    "     \"safebrowsing.enabled\": True})\n",
    "\n",
    "browser = webdriver.Chrome(options=options)\n",
    "browser.maximize_window()\n",
    "\n",
    "# подключение к сайту\n",
    "browser.get(\"https://nbs.rs/en/finansijsko_trziste/medjubankarsko-devizno-trziste/kursna-lista/za-period/index.html\")\n",
    "\n",
    "# эта строка switch_to.frame нужна только для сайтов, где есть верхнеуровневый элемент frame/iframe,\n",
    "# который не позволяет искать нужный id напрямую\n",
    "browser.switch_to.frame('frameId')\n",
    "\n",
    "# ввод даты старта в текстовое поле\n",
    "element = browser.find_element(By.ID, 'inputPeriod:Od')\n",
    "element.clear()\n",
    "element.send_keys(start_date)\n",
    "\n",
    "# ввод даты окончания в текстовое поле\n",
    "element = browser.find_element(By.ID, 'inputPeriod:Do')\n",
    "element.clear()\n",
    "element.send_keys(finish_date)\n",
    "\n",
    "# выбор валюты из выпадающего списка\n",
    "element = browser.find_element(By.ID, 'inputPeriod:valutaInner')\n",
    "element = Select(element)\n",
    "element.select_by_value(valuta) \n",
    "\n",
    "# выбор типа из выпадающего списка\n",
    "element = browser.find_element(By.ID, 'inputPeriod:vrstaInner')\n",
    "element = Select(element)\n",
    "element.select_by_value(type_rate)\n",
    "\n",
    "# выбор формата скачивания из выпадающего списка\n",
    "element = browser.find_element(By.ID, 'inputPeriod:prikazInner')\n",
    "element = Select(element)\n",
    "element.select_by_value(download_type)\n",
    "\n",
    "# выбор Date Type из выпадающего списка\n",
    "element = browser.find_element(By.ID, 'inputPeriod:radniNeradniInner')\n",
    "element = Select(element)\n",
    "element.select_by_value(days)\n",
    "\n",
    "# нажатие кнопки Show\n",
    "element = browser.find_element(By.ID, 'inputPeriod:buttonShow')\n",
    "element.click()"
   ]
  },
  {
   "cell_type": "markdown",
   "metadata": {},
   "source": [
    "**Готово! Файл находится в заданной вами директории**"
   ]
  },
  {
   "cell_type": "markdown",
   "metadata": {},
   "source": [
    "Источники информации:\n",
    "\n",
    "- [Вебинар Skillbox по написанию парсера на Python с Selenium](https://vk.com/video/@skillbox?q=%D0%BF%D0%B0%D1%80%D1%81%D0%B5%D1%80&z=video-66669811_456242851%2Fclub66669811%2Fpl_-66669811_-2)\n",
    "\n",
    "- [Шпаргалка по Selenium с Python](https://habr.com/ru/amp/post/596071/)\n",
    "\n",
    "- [Документация Selenium](https://www.selenium.dev/documentation/webdriver/)"
   ]
  }
 ],
 "metadata": {
  "kernelspec": {
   "display_name": "Python 3 (ipykernel)",
   "language": "python",
   "name": "python3"
  },
  "language_info": {
   "codemirror_mode": {
    "name": "ipython",
    "version": 3
   },
   "file_extension": ".py",
   "mimetype": "text/x-python",
   "name": "python",
   "nbconvert_exporter": "python",
   "pygments_lexer": "ipython3",
   "version": "3.9.13"
  }
 },
 "nbformat": 4,
 "nbformat_minor": 4
}
